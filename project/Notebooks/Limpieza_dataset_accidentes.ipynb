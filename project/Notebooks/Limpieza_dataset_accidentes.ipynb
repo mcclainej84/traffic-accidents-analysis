{
 "cells": [
  {
   "cell_type": "code",
   "execution_count": 1,
   "id": "6d5dcd90-b9d4-49fe-8bb5-b38985d078fb",
   "metadata": {},
   "outputs": [
    {
     "name": "stderr",
     "output_type": "stream",
     "text": [
      "/Users/john_mcclaine/mbit/mbit_venv/lib/python3.10/site-packages/pyspark/pandas/__init__.py:49: UserWarning: 'PYARROW_IGNORE_TIMEZONE' environment variable was not set. It is required to set this environment variable to '1' in both driver and executor sides if you use pyarrow>=2.0.0. pandas-on-Spark will set it for you but it does not work if there is a Spark context already launched.\n",
      "  warnings.warn(\n"
     ]
    }
   ],
   "source": [
    "import pandera as pa\n",
    "import pandas as pd\n",
    "import geopandas as gpd\n",
    "import matplotlib.pyplot as plt\n",
    "import numpy as np\n",
    "import json"
   ]
  },
  {
   "cell_type": "code",
   "execution_count": 2,
   "id": "4252ec2c-939a-4729-a774-45969da404c7",
   "metadata": {},
   "outputs": [],
   "source": [
    "pd.set_option('display.max_columns', None)\n",
    "pd.set_option('display.max_rows', 22)"
   ]
  },
  {
   "cell_type": "code",
   "execution_count": 3,
   "id": "b531bac5-a59c-4cfc-9d55-eb916fe91a5e",
   "metadata": {},
   "outputs": [],
   "source": [
    "data_folder =\"../Files/\"\n",
    "geojson_path = f'{data_folder}Distritos_de_Madrid.geojson'"
   ]
  },
  {
   "cell_type": "code",
   "execution_count": 4,
   "id": "d56685d3-d5c1-41ec-a7be-b0ce6bfb2b34",
   "metadata": {},
   "outputs": [],
   "source": [
    "df = pd.read_csv(f'{data_folder}2023_Accidentalidad_c_g_s_d.csv' , sep = \";\")"
   ]
  },
  {
   "cell_type": "code",
   "execution_count": 5,
   "id": "8ab8e7c0-b1ef-4ddc-b033-96187559fb49",
   "metadata": {},
   "outputs": [
    {
     "data": {
      "text/html": [
       "<div>\n",
       "<style scoped>\n",
       "    .dataframe tbody tr th:only-of-type {\n",
       "        vertical-align: middle;\n",
       "    }\n",
       "\n",
       "    .dataframe tbody tr th {\n",
       "        vertical-align: top;\n",
       "    }\n",
       "\n",
       "    .dataframe thead th {\n",
       "        text-align: right;\n",
       "    }\n",
       "</style>\n",
       "<table border=\"1\" class=\"dataframe\">\n",
       "  <thead>\n",
       "    <tr style=\"text-align: right;\">\n",
       "      <th></th>\n",
       "      <th>num_expediente</th>\n",
       "      <th>fecha</th>\n",
       "      <th>hora</th>\n",
       "      <th>localizacion</th>\n",
       "      <th>numero</th>\n",
       "      <th>cod_distrito</th>\n",
       "      <th>distrito</th>\n",
       "      <th>tipo_accidente</th>\n",
       "      <th>estado_meteorológico</th>\n",
       "      <th>tipo_vehiculo</th>\n",
       "      <th>tipo_persona</th>\n",
       "      <th>rango_edad</th>\n",
       "      <th>sexo</th>\n",
       "      <th>cod_lesividad</th>\n",
       "      <th>lesividad</th>\n",
       "      <th>coordenada_x_utm</th>\n",
       "      <th>coordenada_y_utm</th>\n",
       "      <th>positiva_alcohol</th>\n",
       "      <th>positiva_droga</th>\n",
       "      <th>longitude</th>\n",
       "      <th>latitude</th>\n",
       "      <th>status_code</th>\n",
       "      <th>status_message</th>\n",
       "      <th>api_timestamp</th>\n",
       "      <th>total_results</th>\n",
       "      <th>geohash</th>\n",
       "      <th>road_info</th>\n",
       "      <th>city</th>\n",
       "      <th>country_code</th>\n",
       "      <th>category</th>\n",
       "      <th>type</th>\n",
       "      <th>house_number</th>\n",
       "      <th>postcode</th>\n",
       "      <th>suburb</th>\n",
       "      <th>quarter</th>\n",
       "      <th>road</th>\n",
       "      <th>formatted</th>\n",
       "      <th>confidence</th>\n",
       "      <th>latitude_api</th>\n",
       "      <th>longitude_api</th>\n",
       "      <th>statusCode_speed_api</th>\n",
       "      <th>coordinates_speed_api</th>\n",
       "      <th>road_name_speed_api</th>\n",
       "      <th>speedlimit_speed_api</th>\n",
       "      <th>speedlimit_kph_speed_api</th>\n",
       "      <th>dia_semana</th>\n",
       "      <th>hora_accidente</th>\n",
       "      <th>int_real</th>\n",
       "      <th>ocupacion</th>\n",
       "      <th>vmed</th>\n",
       "    </tr>\n",
       "  </thead>\n",
       "  <tbody>\n",
       "    <tr>\n",
       "      <th>0</th>\n",
       "      <td>2023S000001</td>\n",
       "      <td>2023-01-01</td>\n",
       "      <td>01:15:00</td>\n",
       "      <td>AVDA. ALFONSO XIII, 33</td>\n",
       "      <td>33</td>\n",
       "      <td>5.0</td>\n",
       "      <td>CHAMARTÍN</td>\n",
       "      <td>Alcance</td>\n",
       "      <td>Despejado</td>\n",
       "      <td>Todo terreno</td>\n",
       "      <td>Conductor</td>\n",
       "      <td>De 55 a 59 años</td>\n",
       "      <td>Mujer</td>\n",
       "      <td>14.0</td>\n",
       "      <td>Sin asistencia sanitaria</td>\n",
       "      <td>443397.166</td>\n",
       "      <td>4478129.388</td>\n",
       "      <td>N</td>\n",
       "      <td>NaN</td>\n",
       "      <td>-3.667528</td>\n",
       "      <td>40.451898</td>\n",
       "      <td>200</td>\n",
       "      <td>OK</td>\n",
       "      <td>Mon, 21 Aug 2023 20:31:18 GMT</td>\n",
       "      <td>1</td>\n",
       "      <td>ezjqhs1672bpxkbcncp1</td>\n",
       "      <td>Avenida de Alfonso XIII</td>\n",
       "      <td>Madrid</td>\n",
       "      <td>es</td>\n",
       "      <td>building</td>\n",
       "      <td>building</td>\n",
       "      <td>37</td>\n",
       "      <td>28016.0</td>\n",
       "      <td>Chamartín</td>\n",
       "      <td>Ciudad Jardín</td>\n",
       "      <td>Avenida de Alfonso XIII</td>\n",
       "      <td>Avenida de Alfonso XIII, 37, 28016 Madrid, Spain</td>\n",
       "      <td>10</td>\n",
       "      <td>40.452052</td>\n",
       "      <td>-3.667577</td>\n",
       "      <td>200</td>\n",
       "      <td>{'latitude': 40.45191182917747, 'longitude': -...</td>\n",
       "      <td>Avenida de Alfonso XIII</td>\n",
       "      <td>31</td>\n",
       "      <td>50</td>\n",
       "      <td>Sunday</td>\n",
       "      <td>1:15:00</td>\n",
       "      <td>135.100769</td>\n",
       "      <td>5.347692</td>\n",
       "      <td>73.0</td>\n",
       "    </tr>\n",
       "    <tr>\n",
       "      <th>1</th>\n",
       "      <td>2023S000001</td>\n",
       "      <td>2023-01-01</td>\n",
       "      <td>01:15:00</td>\n",
       "      <td>AVDA. ALFONSO XIII, 33</td>\n",
       "      <td>33</td>\n",
       "      <td>5.0</td>\n",
       "      <td>CHAMARTÍN</td>\n",
       "      <td>Alcance</td>\n",
       "      <td>Despejado</td>\n",
       "      <td>Todo terreno</td>\n",
       "      <td>Pasajero</td>\n",
       "      <td>De 21 a 24 años</td>\n",
       "      <td>Hombre</td>\n",
       "      <td>14.0</td>\n",
       "      <td>Sin asistencia sanitaria</td>\n",
       "      <td>443397.166</td>\n",
       "      <td>4478129.388</td>\n",
       "      <td>N</td>\n",
       "      <td>NaN</td>\n",
       "      <td>-3.667528</td>\n",
       "      <td>40.451898</td>\n",
       "      <td>200</td>\n",
       "      <td>OK</td>\n",
       "      <td>Mon, 21 Aug 2023 20:31:18 GMT</td>\n",
       "      <td>1</td>\n",
       "      <td>ezjqhs1672bpxkbcncp1</td>\n",
       "      <td>Avenida de Alfonso XIII</td>\n",
       "      <td>Madrid</td>\n",
       "      <td>es</td>\n",
       "      <td>building</td>\n",
       "      <td>building</td>\n",
       "      <td>37</td>\n",
       "      <td>28016.0</td>\n",
       "      <td>Chamartín</td>\n",
       "      <td>Ciudad Jardín</td>\n",
       "      <td>Avenida de Alfonso XIII</td>\n",
       "      <td>Avenida de Alfonso XIII, 37, 28016 Madrid, Spain</td>\n",
       "      <td>10</td>\n",
       "      <td>40.452052</td>\n",
       "      <td>-3.667577</td>\n",
       "      <td>200</td>\n",
       "      <td>{'latitude': 40.45191182917747, 'longitude': -...</td>\n",
       "      <td>Avenida de Alfonso XIII</td>\n",
       "      <td>31</td>\n",
       "      <td>50</td>\n",
       "      <td>Sunday</td>\n",
       "      <td>1:15:00</td>\n",
       "      <td>135.100769</td>\n",
       "      <td>5.347692</td>\n",
       "      <td>73.0</td>\n",
       "    </tr>\n",
       "  </tbody>\n",
       "</table>\n",
       "</div>"
      ],
      "text/plain": [
       "  num_expediente       fecha      hora            localizacion numero  \\\n",
       "0    2023S000001  2023-01-01  01:15:00  AVDA. ALFONSO XIII, 33     33   \n",
       "1    2023S000001  2023-01-01  01:15:00  AVDA. ALFONSO XIII, 33     33   \n",
       "\n",
       "   cod_distrito   distrito tipo_accidente estado_meteorológico tipo_vehiculo  \\\n",
       "0           5.0  CHAMARTÍN        Alcance            Despejado  Todo terreno   \n",
       "1           5.0  CHAMARTÍN        Alcance            Despejado  Todo terreno   \n",
       "\n",
       "  tipo_persona       rango_edad    sexo  cod_lesividad  \\\n",
       "0    Conductor  De 55 a 59 años   Mujer           14.0   \n",
       "1     Pasajero  De 21 a 24 años  Hombre           14.0   \n",
       "\n",
       "                  lesividad  coordenada_x_utm  coordenada_y_utm  \\\n",
       "0  Sin asistencia sanitaria        443397.166       4478129.388   \n",
       "1  Sin asistencia sanitaria        443397.166       4478129.388   \n",
       "\n",
       "  positiva_alcohol  positiva_droga  longitude   latitude  status_code  \\\n",
       "0                N             NaN  -3.667528  40.451898          200   \n",
       "1                N             NaN  -3.667528  40.451898          200   \n",
       "\n",
       "  status_message                  api_timestamp  total_results  \\\n",
       "0             OK  Mon, 21 Aug 2023 20:31:18 GMT              1   \n",
       "1             OK  Mon, 21 Aug 2023 20:31:18 GMT              1   \n",
       "\n",
       "                geohash                road_info    city country_code  \\\n",
       "0  ezjqhs1672bpxkbcncp1  Avenida de Alfonso XIII  Madrid           es   \n",
       "1  ezjqhs1672bpxkbcncp1  Avenida de Alfonso XIII  Madrid           es   \n",
       "\n",
       "   category      type house_number  postcode     suburb        quarter  \\\n",
       "0  building  building           37   28016.0  Chamartín  Ciudad Jardín   \n",
       "1  building  building           37   28016.0  Chamartín  Ciudad Jardín   \n",
       "\n",
       "                      road                                         formatted  \\\n",
       "0  Avenida de Alfonso XIII  Avenida de Alfonso XIII, 37, 28016 Madrid, Spain   \n",
       "1  Avenida de Alfonso XIII  Avenida de Alfonso XIII, 37, 28016 Madrid, Spain   \n",
       "\n",
       "   confidence  latitude_api  longitude_api  statusCode_speed_api  \\\n",
       "0          10     40.452052      -3.667577                   200   \n",
       "1          10     40.452052      -3.667577                   200   \n",
       "\n",
       "                               coordinates_speed_api      road_name_speed_api  \\\n",
       "0  {'latitude': 40.45191182917747, 'longitude': -...  Avenida de Alfonso XIII   \n",
       "1  {'latitude': 40.45191182917747, 'longitude': -...  Avenida de Alfonso XIII   \n",
       "\n",
       "   speedlimit_speed_api  speedlimit_kph_speed_api dia_semana hora_accidente  \\\n",
       "0                    31                        50     Sunday        1:15:00   \n",
       "1                    31                        50     Sunday        1:15:00   \n",
       "\n",
       "     int_real  ocupacion  vmed  \n",
       "0  135.100769   5.347692  73.0  \n",
       "1  135.100769   5.347692  73.0  "
      ]
     },
     "execution_count": 5,
     "metadata": {},
     "output_type": "execute_result"
    }
   ],
   "source": [
    "df.head(2)"
   ]
  },
  {
   "cell_type": "markdown",
   "id": "4b156d9a-860b-4c1f-8dc2-90b531924687",
   "metadata": {},
   "source": [
    "Abrimos el dataset de Accidentes y unímos con el de Distritos para obtener una descripción del distrito unificado, ya que la del dataset de Accidentes es ligeramente diferente y estaba en mayusculas.\n",
    "Después se eliminan las columnas redundantes.\n",
    "Se redondea la velocidad media con dos decimales.\n",
    "Tambien se le aplica el esquema definido en 2023_Accidentalidad_schema.json."
   ]
  },
  {
   "cell_type": "code",
   "execution_count": 6,
   "id": "08d57464-6426-4184-b809-a8377bb53a06",
   "metadata": {},
   "outputs": [],
   "source": [
    "# Load the schema from the JSON file\n",
    "with open(f'{data_folder}2023_Accidentalidad_schema.json', 'r') as file:\n",
    "    schema = json.load(file)\n",
    "\n",
    "df = (\n",
    "    pd.read_csv(f'{data_folder}2023_Accidentalidad_c_g_s_d.csv', sep=\";\", \n",
    "                parse_dates=['fecha'])\n",
    "    .merge(\n",
    "        (\n",
    "            gpd.read_file(geojson_path)\n",
    "            .assign(cod_distrito=lambda x: x['cod_distrito'].astype(int))\n",
    "            [['cod_distrito', 'NOMBRE']]\n",
    "        ),\n",
    "        on='cod_distrito',\n",
    "        how='left'\n",
    "    )\n",
    "    .assign(distrito=lambda x: x['NOMBRE'])  # Assign 'NOMBRE' to a new column 'distrito'\n",
    "    .drop(columns=[\"status_code\"  , \"status_message\" , \"total_results\" , \"city\" , \"country_code\" , \"suburb\" , \"confidence\" , \"api_timestamp\" , \"statusCode_speed_api\" ,  \"speedlimit_speed_api\"  , \"NOMBRE\"])  \n",
    "    .round({'vmed': 2})    \n",
    "    .astype(schema)\n",
    ")"
   ]
  },
  {
   "cell_type": "markdown",
   "id": "7be6fc15-f185-4bb3-a2f6-c5c3b4e19da4",
   "metadata": {},
   "source": [
    "Se comprueba que los datos se han tipado"
   ]
  },
  {
   "cell_type": "code",
   "execution_count": 7,
   "id": "7d6aeec7-1881-42b8-addc-4ee6d0b6aa66",
   "metadata": {},
   "outputs": [
    {
     "name": "stdout",
     "output_type": "stream",
     "text": [
      "<class 'pandas.core.frame.DataFrame'>\n",
      "Int64Index: 20526 entries, 0 to 20525\n",
      "Data columns (total 40 columns):\n",
      " #   Column                    Non-Null Count  Dtype         \n",
      "---  ------                    --------------  -----         \n",
      " 0   num_expediente            20526 non-null  object        \n",
      " 1   fecha                     20526 non-null  datetime64[ns]\n",
      " 2   hora                      20526 non-null  object        \n",
      " 3   localizacion              20526 non-null  object        \n",
      " 4   numero                    20526 non-null  object        \n",
      " 5   cod_distrito              20526 non-null  int64         \n",
      " 6   distrito                  20526 non-null  object        \n",
      " 7   tipo_accidente            20526 non-null  object        \n",
      " 8   estado_meteorológico      18215 non-null  object        \n",
      " 9   tipo_vehiculo             20365 non-null  object        \n",
      " 10  tipo_persona              20526 non-null  object        \n",
      " 11  rango_edad                20526 non-null  object        \n",
      " 12  sexo                      20526 non-null  object        \n",
      " 13  cod_lesividad             10721 non-null  float64       \n",
      " 14  lesividad                 10721 non-null  object        \n",
      " 15  coordenada_x_utm          20526 non-null  float64       \n",
      " 16  coordenada_y_utm          20526 non-null  float64       \n",
      " 17  positiva_alcohol          20442 non-null  object        \n",
      " 18  positiva_droga            82 non-null     float64       \n",
      " 19  longitude                 20526 non-null  float64       \n",
      " 20  latitude                  20526 non-null  float64       \n",
      " 21  geohash                   20526 non-null  object        \n",
      " 22  road_info                 20526 non-null  object        \n",
      " 23  category                  20526 non-null  object        \n",
      " 24  type                      20526 non-null  object        \n",
      " 25  house_number              6360 non-null   object        \n",
      " 26  postcode                  20479 non-null  object        \n",
      " 27  quarter                   19110 non-null  object        \n",
      " 28  road                      20526 non-null  object        \n",
      " 29  formatted                 20526 non-null  object        \n",
      " 30  latitude_api              20526 non-null  float64       \n",
      " 31  longitude_api             20526 non-null  float64       \n",
      " 32  coordinates_speed_api     20508 non-null  object        \n",
      " 33  road_name_speed_api       19141 non-null  object        \n",
      " 34  speedlimit_kph_speed_api  20526 non-null  int64         \n",
      " 35  dia_semana                20526 non-null  object        \n",
      " 36  hora_accidente            20526 non-null  object        \n",
      " 37  int_real                  20526 non-null  float64       \n",
      " 38  ocupacion                 20526 non-null  float64       \n",
      " 39  vmed                      20526 non-null  float64       \n",
      "dtypes: datetime64[ns](1), float64(11), int64(2), object(26)\n",
      "memory usage: 6.4+ MB\n"
     ]
    }
   ],
   "source": [
    "df.info()"
   ]
  },
  {
   "cell_type": "code",
   "execution_count": 8,
   "id": "53472d3e-0994-4070-9d3d-31880fdb77bc",
   "metadata": {},
   "outputs": [
    {
     "data": {
      "text/html": [
       "<div>\n",
       "<style scoped>\n",
       "    .dataframe tbody tr th:only-of-type {\n",
       "        vertical-align: middle;\n",
       "    }\n",
       "\n",
       "    .dataframe tbody tr th {\n",
       "        vertical-align: top;\n",
       "    }\n",
       "\n",
       "    .dataframe thead th {\n",
       "        text-align: right;\n",
       "    }\n",
       "</style>\n",
       "<table border=\"1\" class=\"dataframe\">\n",
       "  <thead>\n",
       "    <tr style=\"text-align: right;\">\n",
       "      <th></th>\n",
       "      <th>num_expediente</th>\n",
       "      <th>fecha</th>\n",
       "      <th>hora</th>\n",
       "      <th>localizacion</th>\n",
       "      <th>numero</th>\n",
       "      <th>cod_distrito</th>\n",
       "      <th>distrito</th>\n",
       "      <th>tipo_accidente</th>\n",
       "      <th>estado_meteorológico</th>\n",
       "      <th>tipo_vehiculo</th>\n",
       "      <th>tipo_persona</th>\n",
       "      <th>rango_edad</th>\n",
       "      <th>sexo</th>\n",
       "      <th>cod_lesividad</th>\n",
       "      <th>lesividad</th>\n",
       "      <th>coordenada_x_utm</th>\n",
       "      <th>coordenada_y_utm</th>\n",
       "      <th>positiva_alcohol</th>\n",
       "      <th>positiva_droga</th>\n",
       "      <th>longitude</th>\n",
       "      <th>latitude</th>\n",
       "      <th>geohash</th>\n",
       "      <th>road_info</th>\n",
       "      <th>category</th>\n",
       "      <th>type</th>\n",
       "      <th>house_number</th>\n",
       "      <th>postcode</th>\n",
       "      <th>quarter</th>\n",
       "      <th>road</th>\n",
       "      <th>formatted</th>\n",
       "      <th>latitude_api</th>\n",
       "      <th>longitude_api</th>\n",
       "      <th>coordinates_speed_api</th>\n",
       "      <th>road_name_speed_api</th>\n",
       "      <th>speedlimit_kph_speed_api</th>\n",
       "      <th>dia_semana</th>\n",
       "      <th>hora_accidente</th>\n",
       "      <th>int_real</th>\n",
       "      <th>ocupacion</th>\n",
       "      <th>vmed</th>\n",
       "    </tr>\n",
       "  </thead>\n",
       "  <tbody>\n",
       "    <tr>\n",
       "      <th>0</th>\n",
       "      <td>2023S000001</td>\n",
       "      <td>2023-01-01</td>\n",
       "      <td>01:15:00</td>\n",
       "      <td>AVDA. ALFONSO XIII, 33</td>\n",
       "      <td>33</td>\n",
       "      <td>5</td>\n",
       "      <td>Chamartín</td>\n",
       "      <td>Alcance</td>\n",
       "      <td>Despejado</td>\n",
       "      <td>Todo terreno</td>\n",
       "      <td>Conductor</td>\n",
       "      <td>De 55 a 59 años</td>\n",
       "      <td>Mujer</td>\n",
       "      <td>14.0</td>\n",
       "      <td>Sin asistencia sanitaria</td>\n",
       "      <td>443397.166</td>\n",
       "      <td>4478129.388</td>\n",
       "      <td>N</td>\n",
       "      <td>NaN</td>\n",
       "      <td>-3.667528</td>\n",
       "      <td>40.451898</td>\n",
       "      <td>ezjqhs1672bpxkbcncp1</td>\n",
       "      <td>Avenida de Alfonso XIII</td>\n",
       "      <td>building</td>\n",
       "      <td>building</td>\n",
       "      <td>37</td>\n",
       "      <td>28016.0</td>\n",
       "      <td>Ciudad Jardín</td>\n",
       "      <td>Avenida de Alfonso XIII</td>\n",
       "      <td>Avenida de Alfonso XIII, 37, 28016 Madrid, Spain</td>\n",
       "      <td>40.452052</td>\n",
       "      <td>-3.667577</td>\n",
       "      <td>{'latitude': 40.45191182917747, 'longitude': -...</td>\n",
       "      <td>Avenida de Alfonso XIII</td>\n",
       "      <td>50</td>\n",
       "      <td>Sunday</td>\n",
       "      <td>1:15:00</td>\n",
       "      <td>135.100769</td>\n",
       "      <td>5.347692</td>\n",
       "      <td>73.0</td>\n",
       "    </tr>\n",
       "    <tr>\n",
       "      <th>1</th>\n",
       "      <td>2023S000001</td>\n",
       "      <td>2023-01-01</td>\n",
       "      <td>01:15:00</td>\n",
       "      <td>AVDA. ALFONSO XIII, 33</td>\n",
       "      <td>33</td>\n",
       "      <td>5</td>\n",
       "      <td>Chamartín</td>\n",
       "      <td>Alcance</td>\n",
       "      <td>Despejado</td>\n",
       "      <td>Todo terreno</td>\n",
       "      <td>Pasajero</td>\n",
       "      <td>De 21 a 24 años</td>\n",
       "      <td>Hombre</td>\n",
       "      <td>14.0</td>\n",
       "      <td>Sin asistencia sanitaria</td>\n",
       "      <td>443397.166</td>\n",
       "      <td>4478129.388</td>\n",
       "      <td>N</td>\n",
       "      <td>NaN</td>\n",
       "      <td>-3.667528</td>\n",
       "      <td>40.451898</td>\n",
       "      <td>ezjqhs1672bpxkbcncp1</td>\n",
       "      <td>Avenida de Alfonso XIII</td>\n",
       "      <td>building</td>\n",
       "      <td>building</td>\n",
       "      <td>37</td>\n",
       "      <td>28016.0</td>\n",
       "      <td>Ciudad Jardín</td>\n",
       "      <td>Avenida de Alfonso XIII</td>\n",
       "      <td>Avenida de Alfonso XIII, 37, 28016 Madrid, Spain</td>\n",
       "      <td>40.452052</td>\n",
       "      <td>-3.667577</td>\n",
       "      <td>{'latitude': 40.45191182917747, 'longitude': -...</td>\n",
       "      <td>Avenida de Alfonso XIII</td>\n",
       "      <td>50</td>\n",
       "      <td>Sunday</td>\n",
       "      <td>1:15:00</td>\n",
       "      <td>135.100769</td>\n",
       "      <td>5.347692</td>\n",
       "      <td>73.0</td>\n",
       "    </tr>\n",
       "    <tr>\n",
       "      <th>2</th>\n",
       "      <td>2023S000001</td>\n",
       "      <td>2023-01-01</td>\n",
       "      <td>01:15:00</td>\n",
       "      <td>AVDA. ALFONSO XIII, 33</td>\n",
       "      <td>33</td>\n",
       "      <td>5</td>\n",
       "      <td>Chamartín</td>\n",
       "      <td>Alcance</td>\n",
       "      <td>Despejado</td>\n",
       "      <td>Todo terreno</td>\n",
       "      <td>Pasajero</td>\n",
       "      <td>De 21 a 24 años</td>\n",
       "      <td>Hombre</td>\n",
       "      <td>14.0</td>\n",
       "      <td>Sin asistencia sanitaria</td>\n",
       "      <td>443397.166</td>\n",
       "      <td>4478129.388</td>\n",
       "      <td>N</td>\n",
       "      <td>NaN</td>\n",
       "      <td>-3.667528</td>\n",
       "      <td>40.451898</td>\n",
       "      <td>ezjqhs1672bpxkbcncp1</td>\n",
       "      <td>Avenida de Alfonso XIII</td>\n",
       "      <td>building</td>\n",
       "      <td>building</td>\n",
       "      <td>37</td>\n",
       "      <td>28016.0</td>\n",
       "      <td>Ciudad Jardín</td>\n",
       "      <td>Avenida de Alfonso XIII</td>\n",
       "      <td>Avenida de Alfonso XIII, 37, 28016 Madrid, Spain</td>\n",
       "      <td>40.452052</td>\n",
       "      <td>-3.667577</td>\n",
       "      <td>{'latitude': 40.45191182917747, 'longitude': -...</td>\n",
       "      <td>Avenida de Alfonso XIII</td>\n",
       "      <td>50</td>\n",
       "      <td>Sunday</td>\n",
       "      <td>1:15:00</td>\n",
       "      <td>135.100769</td>\n",
       "      <td>5.347692</td>\n",
       "      <td>73.0</td>\n",
       "    </tr>\n",
       "  </tbody>\n",
       "</table>\n",
       "</div>"
      ],
      "text/plain": [
       "  num_expediente      fecha      hora            localizacion numero  \\\n",
       "0    2023S000001 2023-01-01  01:15:00  AVDA. ALFONSO XIII, 33     33   \n",
       "1    2023S000001 2023-01-01  01:15:00  AVDA. ALFONSO XIII, 33     33   \n",
       "2    2023S000001 2023-01-01  01:15:00  AVDA. ALFONSO XIII, 33     33   \n",
       "\n",
       "   cod_distrito   distrito tipo_accidente estado_meteorológico tipo_vehiculo  \\\n",
       "0             5  Chamartín        Alcance            Despejado  Todo terreno   \n",
       "1             5  Chamartín        Alcance            Despejado  Todo terreno   \n",
       "2             5  Chamartín        Alcance            Despejado  Todo terreno   \n",
       "\n",
       "  tipo_persona       rango_edad    sexo  cod_lesividad  \\\n",
       "0    Conductor  De 55 a 59 años   Mujer           14.0   \n",
       "1     Pasajero  De 21 a 24 años  Hombre           14.0   \n",
       "2     Pasajero  De 21 a 24 años  Hombre           14.0   \n",
       "\n",
       "                  lesividad  coordenada_x_utm  coordenada_y_utm  \\\n",
       "0  Sin asistencia sanitaria        443397.166       4478129.388   \n",
       "1  Sin asistencia sanitaria        443397.166       4478129.388   \n",
       "2  Sin asistencia sanitaria        443397.166       4478129.388   \n",
       "\n",
       "  positiva_alcohol  positiva_droga  longitude   latitude  \\\n",
       "0                N             NaN  -3.667528  40.451898   \n",
       "1                N             NaN  -3.667528  40.451898   \n",
       "2                N             NaN  -3.667528  40.451898   \n",
       "\n",
       "                geohash                road_info  category      type  \\\n",
       "0  ezjqhs1672bpxkbcncp1  Avenida de Alfonso XIII  building  building   \n",
       "1  ezjqhs1672bpxkbcncp1  Avenida de Alfonso XIII  building  building   \n",
       "2  ezjqhs1672bpxkbcncp1  Avenida de Alfonso XIII  building  building   \n",
       "\n",
       "  house_number postcode        quarter                     road  \\\n",
       "0           37  28016.0  Ciudad Jardín  Avenida de Alfonso XIII   \n",
       "1           37  28016.0  Ciudad Jardín  Avenida de Alfonso XIII   \n",
       "2           37  28016.0  Ciudad Jardín  Avenida de Alfonso XIII   \n",
       "\n",
       "                                          formatted  latitude_api  \\\n",
       "0  Avenida de Alfonso XIII, 37, 28016 Madrid, Spain     40.452052   \n",
       "1  Avenida de Alfonso XIII, 37, 28016 Madrid, Spain     40.452052   \n",
       "2  Avenida de Alfonso XIII, 37, 28016 Madrid, Spain     40.452052   \n",
       "\n",
       "   longitude_api                              coordinates_speed_api  \\\n",
       "0      -3.667577  {'latitude': 40.45191182917747, 'longitude': -...   \n",
       "1      -3.667577  {'latitude': 40.45191182917747, 'longitude': -...   \n",
       "2      -3.667577  {'latitude': 40.45191182917747, 'longitude': -...   \n",
       "\n",
       "       road_name_speed_api  speedlimit_kph_speed_api dia_semana  \\\n",
       "0  Avenida de Alfonso XIII                        50     Sunday   \n",
       "1  Avenida de Alfonso XIII                        50     Sunday   \n",
       "2  Avenida de Alfonso XIII                        50     Sunday   \n",
       "\n",
       "  hora_accidente    int_real  ocupacion  vmed  \n",
       "0        1:15:00  135.100769   5.347692  73.0  \n",
       "1        1:15:00  135.100769   5.347692  73.0  \n",
       "2        1:15:00  135.100769   5.347692  73.0  "
      ]
     },
     "execution_count": 8,
     "metadata": {},
     "output_type": "execute_result"
    }
   ],
   "source": [
    "df.head(3)"
   ]
  },
  {
   "cell_type": "code",
   "execution_count": 9,
   "id": "79176164-27af-4e0b-b086-9a4386148492",
   "metadata": {},
   "outputs": [
    {
     "data": {
      "text/plain": [
       "(20526, 40)"
      ]
     },
     "execution_count": 9,
     "metadata": {},
     "output_type": "execute_result"
    }
   ],
   "source": [
    "df.shape"
   ]
  },
  {
   "cell_type": "markdown",
   "id": "b6fef03f-d515-4f3d-9afd-d0443246f92e",
   "metadata": {},
   "source": [
    "Explorar el número de registros:"
   ]
  },
  {
   "cell_type": "code",
   "execution_count": 10,
   "id": "6839f01f-e42b-4cd2-b8ca-9464156c86d0",
   "metadata": {},
   "outputs": [
    {
     "data": {
      "text/plain": [
       "'Número total de registros: 20526 m número de expedientes únicos: 8682'"
      ]
     },
     "execution_count": 10,
     "metadata": {},
     "output_type": "execute_result"
    }
   ],
   "source": [
    "f'Número total de registros: {df.shape[0]} m número de expedientes únicos: {df.num_expediente.drop_duplicates().shape[0]}'"
   ]
  },
  {
   "cell_type": "markdown",
   "id": "ede2fcbd-d89a-4407-850b-bde5c9f8e692",
   "metadata": {},
   "source": [
    "Se eliminan los registros en los que la velocidad es 0, ya que tienen impacto en el modelo"
   ]
  },
  {
   "cell_type": "code",
   "execution_count": 11,
   "id": "81db935e-d5eb-4e4a-8715-1bc02cae9399",
   "metadata": {},
   "outputs": [],
   "source": [
    "df_filter = df[df['speedlimit_kph_speed_api'] > 0].copy()"
   ]
  },
  {
   "cell_type": "code",
   "execution_count": 12,
   "id": "ba6fd121-0372-4e58-b97f-d2d71c28010a",
   "metadata": {},
   "outputs": [
    {
     "data": {
      "text/plain": [
       "'Número total de registros: 19349 m número de expedientes únicos: 8159'"
      ]
     },
     "execution_count": 12,
     "metadata": {},
     "output_type": "execute_result"
    }
   ],
   "source": [
    "f'Número total de registros: {df_filter.shape[0]} m número de expedientes únicos: {df_filter.num_expediente.drop_duplicates().shape[0]}'"
   ]
  },
  {
   "cell_type": "markdown",
   "id": "81772849-1c80-4051-a872-72267f0b741b",
   "metadata": {},
   "source": [
    "Con esta operación se elimina un número de expedientes considerable pero es asumible de cara a conseguir un mejor modelo de predicción para lesividad"
   ]
  },
  {
   "cell_type": "code",
   "execution_count": 13,
   "id": "2c5fb296-042c-4b52-8cfd-bacde03a4c87",
   "metadata": {},
   "outputs": [
    {
     "data": {
      "text/plain": [
       "'Porcentaje de registros eliminados: 5.73%'"
      ]
     },
     "execution_count": 13,
     "metadata": {},
     "output_type": "execute_result"
    }
   ],
   "source": [
    "f'Porcentaje de registros eliminados: {round(100-((df_filter.shape[0]*100)/df.shape[0]),2)}%'"
   ]
  },
  {
   "cell_type": "code",
   "execution_count": 14,
   "id": "85c15c75-23be-4f66-9dc1-0701b75cb732",
   "metadata": {},
   "outputs": [
    {
     "data": {
      "text/plain": [
       "'Porcentaje de expedientes eliminados: 6.02%'"
      ]
     },
     "execution_count": 14,
     "metadata": {},
     "output_type": "execute_result"
    }
   ],
   "source": [
    "f'Porcentaje de expedientes eliminados: {round(100-((df_filter.num_expediente.drop_duplicates().shape[0]*100)/df.num_expediente.drop_duplicates().shape[0]),2)}%'"
   ]
  },
  {
   "cell_type": "markdown",
   "id": "9a35214a-a10a-4c32-9aaa-2c9bf2b59e16",
   "metadata": {},
   "source": [
    "Se crea una nueva columna que indique si la velocidad de un tramo es superior a 65 kmh"
   ]
  },
  {
   "cell_type": "code",
   "execution_count": 15,
   "id": "ee078946-055f-4d08-8051-49b827ad8d63",
   "metadata": {},
   "outputs": [],
   "source": [
    "df_filter['high_speed_point'] =  (df_filter['speedlimit_kph_speed_api'] > 65 ).astype(int)"
   ]
  },
  {
   "cell_type": "markdown",
   "id": "ce0a6899-d27a-4b84-a1be-ed1704b8aa23",
   "metadata": {},
   "source": [
    "Por último vamos a agrupar las horas por rangos horarios de una hora"
   ]
  },
  {
   "cell_type": "code",
   "execution_count": 16,
   "id": "21fc0faa-0e41-4d77-90c4-67330cbf0ef8",
   "metadata": {},
   "outputs": [],
   "source": [
    "df_filter['hora_rango'] = pd.to_datetime(df_filter['hora'], format='%H:%M:%S').dt.hour"
   ]
  },
  {
   "cell_type": "code",
   "execution_count": 17,
   "id": "6416a1bb-48a8-4dc8-868c-f13ea88fe202",
   "metadata": {},
   "outputs": [
    {
     "data": {
      "text/html": [
       "<div>\n",
       "<style scoped>\n",
       "    .dataframe tbody tr th:only-of-type {\n",
       "        vertical-align: middle;\n",
       "    }\n",
       "\n",
       "    .dataframe tbody tr th {\n",
       "        vertical-align: top;\n",
       "    }\n",
       "\n",
       "    .dataframe thead th {\n",
       "        text-align: right;\n",
       "    }\n",
       "</style>\n",
       "<table border=\"1\" class=\"dataframe\">\n",
       "  <thead>\n",
       "    <tr style=\"text-align: right;\">\n",
       "      <th></th>\n",
       "      <th>hora_rango</th>\n",
       "      <th>num_expediente</th>\n",
       "    </tr>\n",
       "  </thead>\n",
       "  <tbody>\n",
       "    <tr>\n",
       "      <th>0</th>\n",
       "      <td>0</td>\n",
       "      <td>484</td>\n",
       "    </tr>\n",
       "    <tr>\n",
       "      <th>1</th>\n",
       "      <td>1</td>\n",
       "      <td>332</td>\n",
       "    </tr>\n",
       "    <tr>\n",
       "      <th>2</th>\n",
       "      <td>2</td>\n",
       "      <td>272</td>\n",
       "    </tr>\n",
       "    <tr>\n",
       "      <th>3</th>\n",
       "      <td>3</td>\n",
       "      <td>190</td>\n",
       "    </tr>\n",
       "    <tr>\n",
       "      <th>4</th>\n",
       "      <td>4</td>\n",
       "      <td>183</td>\n",
       "    </tr>\n",
       "    <tr>\n",
       "      <th>...</th>\n",
       "      <td>...</td>\n",
       "      <td>...</td>\n",
       "    </tr>\n",
       "    <tr>\n",
       "      <th>19</th>\n",
       "      <td>19</td>\n",
       "      <td>1328</td>\n",
       "    </tr>\n",
       "    <tr>\n",
       "      <th>20</th>\n",
       "      <td>20</td>\n",
       "      <td>1163</td>\n",
       "    </tr>\n",
       "    <tr>\n",
       "      <th>21</th>\n",
       "      <td>21</td>\n",
       "      <td>1016</td>\n",
       "    </tr>\n",
       "    <tr>\n",
       "      <th>22</th>\n",
       "      <td>22</td>\n",
       "      <td>733</td>\n",
       "    </tr>\n",
       "    <tr>\n",
       "      <th>23</th>\n",
       "      <td>23</td>\n",
       "      <td>562</td>\n",
       "    </tr>\n",
       "  </tbody>\n",
       "</table>\n",
       "<p>24 rows × 2 columns</p>\n",
       "</div>"
      ],
      "text/plain": [
       "    hora_rango  num_expediente\n",
       "0            0             484\n",
       "1            1             332\n",
       "2            2             272\n",
       "3            3             190\n",
       "4            4             183\n",
       "..         ...             ...\n",
       "19          19            1328\n",
       "20          20            1163\n",
       "21          21            1016\n",
       "22          22             733\n",
       "23          23             562\n",
       "\n",
       "[24 rows x 2 columns]"
      ]
     },
     "execution_count": 17,
     "metadata": {},
     "output_type": "execute_result"
    }
   ],
   "source": [
    "accidents_hour = df_filter.groupby('hora_rango')['num_expediente'].count().reset_index()\n",
    "accidents_hour"
   ]
  },
  {
   "cell_type": "code",
   "execution_count": 18,
   "id": "83640363-1d34-4fd5-a0f9-57ed3d45808a",
   "metadata": {},
   "outputs": [],
   "source": [
    "#Distribución de la variable Distrito\n",
    "valor_umbral1 = 600\n",
    "valor_umbral2 = 800\n",
    "valor_umbral3 = 400"
   ]
  },
  {
   "cell_type": "code",
   "execution_count": 19,
   "id": "cbb4ac5a-5fa5-4b0c-a014-f34d5fec9048",
   "metadata": {},
   "outputs": [],
   "source": [
    "#Accidentes_filtrados = Accidentes[Accidentes['distrito'] != 'Despejado']\n",
    "recuento_distrito = df_filter['distrito'].str.lower().value_counts()"
   ]
  },
  {
   "cell_type": "code",
   "execution_count": 20,
   "id": "033e4937-b98c-4426-8e2a-e8999c766304",
   "metadata": {
    "tags": []
   },
   "outputs": [],
   "source": [
    "colores = [\n",
    "    'lightcoral' if recuento < valor_umbral1 else\n",
    "    'lightblue' if recuento < valor_umbral2 else\n",
    "    'lightgreen'\n",
    "    for recuento in recuento_distrito\n",
    "]"
   ]
  },
  {
   "cell_type": "code",
   "execution_count": 21,
   "id": "b76a737f-aee6-4b42-91d0-477014e4048c",
   "metadata": {},
   "outputs": [
    {
     "data": {
      "image/png": "[encoded data removed]",
      "text/plain": [
       "<Figure size 640x480 with 1 Axes>"
      ]
     },
     "metadata": {},
     "output_type": "display_data"
    }
   ],
   "source": [
    "plot = recuento_distrito.plot(kind='bar', title='Por Distrito', color=colores)\n",
    "plt.ylabel('Número de accidentes')\n",
    "plt.xlabel('Distrito')\n",
    "plt.show()"
   ]
  },
  {
   "cell_type": "code",
   "execution_count": 22,
   "id": "fecd5ed6-c41b-43f1-8d0f-7b9e39c3cd9c",
   "metadata": {},
   "outputs": [
    {
     "data": {
      "image/png": "[encoded data removed]",
      "text/plain": [
       "<Figure size 1000x600 with 1 Axes>"
      ]
     },
     "metadata": {},
     "output_type": "display_data"
    }
   ],
   "source": [
    "#Distribución de la variable tipo de accidente\n",
    "accident_counts = df_filter['tipo_accidente'].value_counts()\n",
    "\n",
    " \n",
    "\n",
    "# Create a bar chart\n",
    "plt.figure(figsize=(10, 6))\n",
    "accident_counts.plot(kind='bar', color='skyblue')\n",
    "plt.title('Distribución de accidentes por tipo')\n",
    "plt.xlabel('Tipo de Accidente')\n",
    "plt.ylabel('Número de accidentes')\n",
    "\n",
    " \n",
    "\n",
    "# Show the bar chart\n",
    "plt.show()"
   ]
  },
  {
   "cell_type": "code",
   "execution_count": 23,
   "id": "33c7ec49-160b-443e-8137-94e32d8c116e",
   "metadata": {},
   "outputs": [
    {
     "data": {
      "text/plain": [
       "num_expediente      0\n",
       "fecha               0\n",
       "hora                0\n",
       "localizacion        0\n",
       "numero              0\n",
       "                   ..\n",
       "int_real            0\n",
       "ocupacion           0\n",
       "vmed                0\n",
       "high_speed_point    0\n",
       "hora_rango          0\n",
       "Length: 42, dtype: int64"
      ]
     },
     "execution_count": 23,
     "metadata": {},
     "output_type": "execute_result"
    }
   ],
   "source": [
    "# Verificamos datos faltantes por columnas\n",
    "df_filter.isnull().sum() "
   ]
  },
  {
   "cell_type": "code",
   "execution_count": 24,
   "id": "b82c337e-d1d5-4a5e-98d3-b8f45d764e08",
   "metadata": {
    "tags": []
   },
   "outputs": [
    {
     "data": {
      "text/plain": [
       "55609"
      ]
     },
     "execution_count": 24,
     "metadata": {},
     "output_type": "execute_result"
    }
   ],
   "source": [
    "df_filter.isna().sum().sum() #Sumamos los valores faltantes en su totalidad"
   ]
  },
  {
   "cell_type": "code",
   "execution_count": 25,
   "id": "0f797155-d7f9-4cb6-ab92-234b2dd3f489",
   "metadata": {},
   "outputs": [],
   "source": [
    "#vemos que la columna de positiva_droga tiene casi todos sus valores faltantes\n",
    "valores_faltantes = df_filter['positiva_droga'].isna().sum()"
   ]
  },
  {
   "cell_type": "code",
   "execution_count": 26,
   "id": "1f724efa-b1d4-481a-a4e8-82fcc89f4025",
   "metadata": {},
   "outputs": [
    {
     "name": "stdout",
     "output_type": "stream",
     "text": [
      "19270\n"
     ]
    }
   ],
   "source": [
    "print(valores_faltantes) #valores faltantes de la columna positiva_droga"
   ]
  },
  {
   "cell_type": "code",
   "execution_count": 27,
   "id": "0ded87e9-fea9-4962-93c6-1daec627cfb6",
   "metadata": {},
   "outputs": [
    {
     "data": {
      "text/plain": [
       "19349"
      ]
     },
     "execution_count": 27,
     "metadata": {},
     "output_type": "execute_result"
    }
   ],
   "source": [
    "len(df_filter['positiva_droga']) #vemos la cantidad de valores totales de la columna positiva_droga"
   ]
  },
  {
   "cell_type": "code",
   "execution_count": 28,
   "id": "06bf981e-b02b-4be3-8215-d5e6de51154d",
   "metadata": {},
   "outputs": [],
   "source": [
    "#Vemos el porcentaje total de los valores faltantes\n",
    "def percentage_missing_data(df):\n",
    "    missing_data_volume = df.isna().sum().sum() / np.product(df.shape) * 100\n",
    "    return f'El volumen de los datos faltan es de: {round(missing_data_volume, 2)}%'"
   ]
  },
  {
   "cell_type": "code",
   "execution_count": 29,
   "id": "2cc76011-af24-470d-83fb-2ff9a38cc454",
   "metadata": {},
   "outputs": [
    {
     "data": {
      "text/plain": [
       "'El volumen de los datos faltan es de: 7.26%'"
      ]
     },
     "execution_count": 29,
     "metadata": {},
     "output_type": "execute_result"
    }
   ],
   "source": [
    "percentage_missing_data(df)"
   ]
  },
  {
   "cell_type": "code",
   "execution_count": 30,
   "id": "3fa7a61c-8f36-4c32-9b34-928ad8a580c0",
   "metadata": {},
   "outputs": [],
   "source": [
    "#Graficamos los valores faltantes por columna\n",
    "def get_accidentes_nan(Accidentes,n):\n",
    "    Accidentes_nan = (\n",
    "        Accidentes\n",
    "        .isna()\n",
    "        .sum()\n",
    "        .to_frame()\n",
    "        .reset_index()\n",
    "        .rename(columns={'index': 'columnas', 0: 'freq'})\n",
    "    )\n",
    "    Accidentes_nan['%'] = round(Accidentes_nan['freq'] / len(Accidentes) * 100, n)\n",
    "    return Accidentes_nan"
   ]
  },
  {
   "cell_type": "code",
   "execution_count": 31,
   "id": "094fffd8-47a6-42a6-9613-e23a6bd61d61",
   "metadata": {},
   "outputs": [],
   "source": [
    "Accidentes_nan = get_accidentes_nan(df_filter, 3)"
   ]
  },
  {
   "cell_type": "code",
   "execution_count": 32,
   "id": "35227996-fe45-47e6-b053-b5a73aab890e",
   "metadata": {},
   "outputs": [
    {
     "data": {
      "text/plain": [
       "<Axes: ylabel='columnas'>"
      ]
     },
     "execution_count": 32,
     "metadata": {},
     "output_type": "execute_result"
    },
    {
     "data": {
      "image/png": "[encoded data removed]",
      "text/plain": [
       "<Figure size 640x480 with 1 Axes>"
      ]
     },
     "metadata": {},
     "output_type": "display_data"
    }
   ],
   "source": [
    "Accidentes_nan.nlargest(30, '%').set_index('columnas')[[ '%']].plot.barh()"
   ]
  },
  {
   "cell_type": "code",
   "execution_count": 33,
   "id": "fc50a978-1ed4-410d-bbff-1bc38b66cd29",
   "metadata": {},
   "outputs": [],
   "source": [
    "#Verificamos la moda de algunas variables catégoricas"
   ]
  },
  {
   "cell_type": "code",
   "execution_count": 34,
   "id": "d6ad8c0a-baf2-48bc-a7a0-36532dba8eb8",
   "metadata": {},
   "outputs": [],
   "source": [
    "moda = df_filter['estado_meteorológico'].mode() #Moda de estado meteorológico"
   ]
  },
  {
   "cell_type": "code",
   "execution_count": 35,
   "id": "cf29f81c-417b-411d-a6ac-3404d8dd3c95",
   "metadata": {},
   "outputs": [
    {
     "name": "stdout",
     "output_type": "stream",
     "text": [
      "0    Despejado\n",
      "Name: estado_meteorológico, dtype: object\n"
     ]
    }
   ],
   "source": [
    "print(moda)"
   ]
  },
  {
   "cell_type": "code",
   "execution_count": 36,
   "id": "6d2a2a7a-a4c3-4c48-a8a6-39de81063951",
   "metadata": {},
   "outputs": [],
   "source": [
    "moda_lesividad = df_filter['lesividad'].mode() #Moda de la variable Lesividad"
   ]
  },
  {
   "cell_type": "code",
   "execution_count": 37,
   "id": "96954ceb-a601-4ad2-966c-1c7ebb104733",
   "metadata": {},
   "outputs": [
    {
     "name": "stdout",
     "output_type": "stream",
     "text": [
      "0    Sin asistencia sanitaria\n",
      "Name: lesividad, dtype: object\n"
     ]
    }
   ],
   "source": [
    "print(moda_lesividad)"
   ]
  },
  {
   "cell_type": "code",
   "execution_count": 38,
   "id": "84f14bbc-0ec4-4597-9a2d-d096cb02f4b2",
   "metadata": {},
   "outputs": [],
   "source": [
    "moda_tipo_vehiculo = df_filter['tipo_vehiculo'].mode()"
   ]
  },
  {
   "cell_type": "code",
   "execution_count": 39,
   "id": "659fa889-9def-43f4-8b43-d4ea3b5d390c",
   "metadata": {},
   "outputs": [
    {
     "name": "stdout",
     "output_type": "stream",
     "text": [
      "0    Turismo\n",
      "Name: tipo_vehiculo, dtype: object\n"
     ]
    }
   ],
   "source": [
    "print(moda_tipo_vehiculo)"
   ]
  },
  {
   "cell_type": "code",
   "execution_count": 40,
   "id": "ce96e05a-4622-45ef-b2ae-8570da7a4e2b",
   "metadata": {},
   "outputs": [],
   "source": [
    "#Rellenamos los valores null de la columna positiva droga con ceros"
   ]
  },
  {
   "cell_type": "code",
   "execution_count": 41,
   "id": "61aad968-6671-4b94-a987-9b556b97a0fc",
   "metadata": {},
   "outputs": [],
   "source": [
    "df_filter['positiva_droga'] = df_filter['positiva_droga'].fillna(0).astype(int)"
   ]
  },
  {
   "cell_type": "code",
   "execution_count": 42,
   "id": "6b0a94d2-107d-4f1c-ab2a-7309586f4b90",
   "metadata": {},
   "outputs": [
    {
     "data": {
      "text/html": [
       "<div>\n",
       "<style scoped>\n",
       "    .dataframe tbody tr th:only-of-type {\n",
       "        vertical-align: middle;\n",
       "    }\n",
       "\n",
       "    .dataframe tbody tr th {\n",
       "        vertical-align: top;\n",
       "    }\n",
       "\n",
       "    .dataframe thead th {\n",
       "        text-align: right;\n",
       "    }\n",
       "</style>\n",
       "<table border=\"1\" class=\"dataframe\">\n",
       "  <thead>\n",
       "    <tr style=\"text-align: right;\">\n",
       "      <th></th>\n",
       "      <th>num_expediente</th>\n",
       "      <th>fecha</th>\n",
       "      <th>hora</th>\n",
       "      <th>localizacion</th>\n",
       "      <th>numero</th>\n",
       "      <th>cod_distrito</th>\n",
       "      <th>distrito</th>\n",
       "      <th>tipo_accidente</th>\n",
       "      <th>estado_meteorológico</th>\n",
       "      <th>tipo_vehiculo</th>\n",
       "      <th>tipo_persona</th>\n",
       "      <th>rango_edad</th>\n",
       "      <th>sexo</th>\n",
       "      <th>cod_lesividad</th>\n",
       "      <th>lesividad</th>\n",
       "      <th>coordenada_x_utm</th>\n",
       "      <th>coordenada_y_utm</th>\n",
       "      <th>positiva_alcohol</th>\n",
       "      <th>positiva_droga</th>\n",
       "      <th>longitude</th>\n",
       "      <th>latitude</th>\n",
       "      <th>geohash</th>\n",
       "      <th>road_info</th>\n",
       "      <th>category</th>\n",
       "      <th>type</th>\n",
       "      <th>house_number</th>\n",
       "      <th>postcode</th>\n",
       "      <th>quarter</th>\n",
       "      <th>road</th>\n",
       "      <th>formatted</th>\n",
       "      <th>latitude_api</th>\n",
       "      <th>longitude_api</th>\n",
       "      <th>coordinates_speed_api</th>\n",
       "      <th>road_name_speed_api</th>\n",
       "      <th>speedlimit_kph_speed_api</th>\n",
       "      <th>dia_semana</th>\n",
       "      <th>hora_accidente</th>\n",
       "      <th>int_real</th>\n",
       "      <th>ocupacion</th>\n",
       "      <th>vmed</th>\n",
       "      <th>high_speed_point</th>\n",
       "      <th>hora_rango</th>\n",
       "    </tr>\n",
       "  </thead>\n",
       "  <tbody>\n",
       "    <tr>\n",
       "      <th>0</th>\n",
       "      <td>2023S000001</td>\n",
       "      <td>2023-01-01</td>\n",
       "      <td>01:15:00</td>\n",
       "      <td>AVDA. ALFONSO XIII, 33</td>\n",
       "      <td>33</td>\n",
       "      <td>5</td>\n",
       "      <td>Chamartín</td>\n",
       "      <td>Alcance</td>\n",
       "      <td>Despejado</td>\n",
       "      <td>Todo terreno</td>\n",
       "      <td>Conductor</td>\n",
       "      <td>De 55 a 59 años</td>\n",
       "      <td>Mujer</td>\n",
       "      <td>14.0</td>\n",
       "      <td>Sin asistencia sanitaria</td>\n",
       "      <td>443397.166</td>\n",
       "      <td>4478129.388</td>\n",
       "      <td>N</td>\n",
       "      <td>0</td>\n",
       "      <td>-3.667528</td>\n",
       "      <td>40.451898</td>\n",
       "      <td>ezjqhs1672bpxkbcncp1</td>\n",
       "      <td>Avenida de Alfonso XIII</td>\n",
       "      <td>building</td>\n",
       "      <td>building</td>\n",
       "      <td>37</td>\n",
       "      <td>28016.0</td>\n",
       "      <td>Ciudad Jardín</td>\n",
       "      <td>Avenida de Alfonso XIII</td>\n",
       "      <td>Avenida de Alfonso XIII, 37, 28016 Madrid, Spain</td>\n",
       "      <td>40.452052</td>\n",
       "      <td>-3.667577</td>\n",
       "      <td>{'latitude': 40.45191182917747, 'longitude': -...</td>\n",
       "      <td>Avenida de Alfonso XIII</td>\n",
       "      <td>50</td>\n",
       "      <td>Sunday</td>\n",
       "      <td>1:15:00</td>\n",
       "      <td>135.100769</td>\n",
       "      <td>5.347692</td>\n",
       "      <td>73.0</td>\n",
       "      <td>0</td>\n",
       "      <td>1</td>\n",
       "    </tr>\n",
       "    <tr>\n",
       "      <th>1</th>\n",
       "      <td>2023S000001</td>\n",
       "      <td>2023-01-01</td>\n",
       "      <td>01:15:00</td>\n",
       "      <td>AVDA. ALFONSO XIII, 33</td>\n",
       "      <td>33</td>\n",
       "      <td>5</td>\n",
       "      <td>Chamartín</td>\n",
       "      <td>Alcance</td>\n",
       "      <td>Despejado</td>\n",
       "      <td>Todo terreno</td>\n",
       "      <td>Pasajero</td>\n",
       "      <td>De 21 a 24 años</td>\n",
       "      <td>Hombre</td>\n",
       "      <td>14.0</td>\n",
       "      <td>Sin asistencia sanitaria</td>\n",
       "      <td>443397.166</td>\n",
       "      <td>4478129.388</td>\n",
       "      <td>N</td>\n",
       "      <td>0</td>\n",
       "      <td>-3.667528</td>\n",
       "      <td>40.451898</td>\n",
       "      <td>ezjqhs1672bpxkbcncp1</td>\n",
       "      <td>Avenida de Alfonso XIII</td>\n",
       "      <td>building</td>\n",
       "      <td>building</td>\n",
       "      <td>37</td>\n",
       "      <td>28016.0</td>\n",
       "      <td>Ciudad Jardín</td>\n",
       "      <td>Avenida de Alfonso XIII</td>\n",
       "      <td>Avenida de Alfonso XIII, 37, 28016 Madrid, Spain</td>\n",
       "      <td>40.452052</td>\n",
       "      <td>-3.667577</td>\n",
       "      <td>{'latitude': 40.45191182917747, 'longitude': -...</td>\n",
       "      <td>Avenida de Alfonso XIII</td>\n",
       "      <td>50</td>\n",
       "      <td>Sunday</td>\n",
       "      <td>1:15:00</td>\n",
       "      <td>135.100769</td>\n",
       "      <td>5.347692</td>\n",
       "      <td>73.0</td>\n",
       "      <td>0</td>\n",
       "      <td>1</td>\n",
       "    </tr>\n",
       "    <tr>\n",
       "      <th>2</th>\n",
       "      <td>2023S000001</td>\n",
       "      <td>2023-01-01</td>\n",
       "      <td>01:15:00</td>\n",
       "      <td>AVDA. ALFONSO XIII, 33</td>\n",
       "      <td>33</td>\n",
       "      <td>5</td>\n",
       "      <td>Chamartín</td>\n",
       "      <td>Alcance</td>\n",
       "      <td>Despejado</td>\n",
       "      <td>Todo terreno</td>\n",
       "      <td>Pasajero</td>\n",
       "      <td>De 21 a 24 años</td>\n",
       "      <td>Hombre</td>\n",
       "      <td>14.0</td>\n",
       "      <td>Sin asistencia sanitaria</td>\n",
       "      <td>443397.166</td>\n",
       "      <td>4478129.388</td>\n",
       "      <td>N</td>\n",
       "      <td>0</td>\n",
       "      <td>-3.667528</td>\n",
       "      <td>40.451898</td>\n",
       "      <td>ezjqhs1672bpxkbcncp1</td>\n",
       "      <td>Avenida de Alfonso XIII</td>\n",
       "      <td>building</td>\n",
       "      <td>building</td>\n",
       "      <td>37</td>\n",
       "      <td>28016.0</td>\n",
       "      <td>Ciudad Jardín</td>\n",
       "      <td>Avenida de Alfonso XIII</td>\n",
       "      <td>Avenida de Alfonso XIII, 37, 28016 Madrid, Spain</td>\n",
       "      <td>40.452052</td>\n",
       "      <td>-3.667577</td>\n",
       "      <td>{'latitude': 40.45191182917747, 'longitude': -...</td>\n",
       "      <td>Avenida de Alfonso XIII</td>\n",
       "      <td>50</td>\n",
       "      <td>Sunday</td>\n",
       "      <td>1:15:00</td>\n",
       "      <td>135.100769</td>\n",
       "      <td>5.347692</td>\n",
       "      <td>73.0</td>\n",
       "      <td>0</td>\n",
       "      <td>1</td>\n",
       "    </tr>\n",
       "    <tr>\n",
       "      <th>3</th>\n",
       "      <td>2023S000001</td>\n",
       "      <td>2023-01-01</td>\n",
       "      <td>01:15:00</td>\n",
       "      <td>AVDA. ALFONSO XIII, 33</td>\n",
       "      <td>33</td>\n",
       "      <td>5</td>\n",
       "      <td>Chamartín</td>\n",
       "      <td>Alcance</td>\n",
       "      <td>Despejado</td>\n",
       "      <td>Todo terreno</td>\n",
       "      <td>Pasajero</td>\n",
       "      <td>De 21 a 24 años</td>\n",
       "      <td>Mujer</td>\n",
       "      <td>7.0</td>\n",
       "      <td>Asistencia sanitaria sólo en el lugar del acci...</td>\n",
       "      <td>443397.166</td>\n",
       "      <td>4478129.388</td>\n",
       "      <td>N</td>\n",
       "      <td>0</td>\n",
       "      <td>-3.667528</td>\n",
       "      <td>40.451898</td>\n",
       "      <td>ezjqhs1672bpxkbcncp1</td>\n",
       "      <td>Avenida de Alfonso XIII</td>\n",
       "      <td>building</td>\n",
       "      <td>building</td>\n",
       "      <td>37</td>\n",
       "      <td>28016.0</td>\n",
       "      <td>Ciudad Jardín</td>\n",
       "      <td>Avenida de Alfonso XIII</td>\n",
       "      <td>Avenida de Alfonso XIII, 37, 28016 Madrid, Spain</td>\n",
       "      <td>40.452052</td>\n",
       "      <td>-3.667577</td>\n",
       "      <td>{'latitude': 40.45191182917747, 'longitude': -...</td>\n",
       "      <td>Avenida de Alfonso XIII</td>\n",
       "      <td>50</td>\n",
       "      <td>Sunday</td>\n",
       "      <td>1:15:00</td>\n",
       "      <td>135.100769</td>\n",
       "      <td>5.347692</td>\n",
       "      <td>73.0</td>\n",
       "      <td>0</td>\n",
       "      <td>1</td>\n",
       "    </tr>\n",
       "    <tr>\n",
       "      <th>4</th>\n",
       "      <td>2023S000001</td>\n",
       "      <td>2023-01-01</td>\n",
       "      <td>01:15:00</td>\n",
       "      <td>AVDA. ALFONSO XIII, 33</td>\n",
       "      <td>33</td>\n",
       "      <td>5</td>\n",
       "      <td>Chamartín</td>\n",
       "      <td>Alcance</td>\n",
       "      <td>Despejado</td>\n",
       "      <td>Todo terreno</td>\n",
       "      <td>Pasajero</td>\n",
       "      <td>De 55 a 59 años</td>\n",
       "      <td>Hombre</td>\n",
       "      <td>7.0</td>\n",
       "      <td>Asistencia sanitaria sólo en el lugar del acci...</td>\n",
       "      <td>443397.166</td>\n",
       "      <td>4478129.388</td>\n",
       "      <td>N</td>\n",
       "      <td>0</td>\n",
       "      <td>-3.667528</td>\n",
       "      <td>40.451898</td>\n",
       "      <td>ezjqhs1672bpxkbcncp1</td>\n",
       "      <td>Avenida de Alfonso XIII</td>\n",
       "      <td>building</td>\n",
       "      <td>building</td>\n",
       "      <td>37</td>\n",
       "      <td>28016.0</td>\n",
       "      <td>Ciudad Jardín</td>\n",
       "      <td>Avenida de Alfonso XIII</td>\n",
       "      <td>Avenida de Alfonso XIII, 37, 28016 Madrid, Spain</td>\n",
       "      <td>40.452052</td>\n",
       "      <td>-3.667577</td>\n",
       "      <td>{'latitude': 40.45191182917747, 'longitude': -...</td>\n",
       "      <td>Avenida de Alfonso XIII</td>\n",
       "      <td>50</td>\n",
       "      <td>Sunday</td>\n",
       "      <td>1:15:00</td>\n",
       "      <td>135.100769</td>\n",
       "      <td>5.347692</td>\n",
       "      <td>73.0</td>\n",
       "      <td>0</td>\n",
       "      <td>1</td>\n",
       "    </tr>\n",
       "  </tbody>\n",
       "</table>\n",
       "</div>"
      ],
      "text/plain": [
       "  num_expediente      fecha      hora            localizacion numero  \\\n",
       "0    2023S000001 2023-01-01  01:15:00  AVDA. ALFONSO XIII, 33     33   \n",
       "1    2023S000001 2023-01-01  01:15:00  AVDA. ALFONSO XIII, 33     33   \n",
       "2    2023S000001 2023-01-01  01:15:00  AVDA. ALFONSO XIII, 33     33   \n",
       "3    2023S000001 2023-01-01  01:15:00  AVDA. ALFONSO XIII, 33     33   \n",
       "4    2023S000001 2023-01-01  01:15:00  AVDA. ALFONSO XIII, 33     33   \n",
       "\n",
       "   cod_distrito   distrito tipo_accidente estado_meteorológico tipo_vehiculo  \\\n",
       "0             5  Chamartín        Alcance            Despejado  Todo terreno   \n",
       "1             5  Chamartín        Alcance            Despejado  Todo terreno   \n",
       "2             5  Chamartín        Alcance            Despejado  Todo terreno   \n",
       "3             5  Chamartín        Alcance            Despejado  Todo terreno   \n",
       "4             5  Chamartín        Alcance            Despejado  Todo terreno   \n",
       "\n",
       "  tipo_persona       rango_edad    sexo  cod_lesividad  \\\n",
       "0    Conductor  De 55 a 59 años   Mujer           14.0   \n",
       "1     Pasajero  De 21 a 24 años  Hombre           14.0   \n",
       "2     Pasajero  De 21 a 24 años  Hombre           14.0   \n",
       "3     Pasajero  De 21 a 24 años   Mujer            7.0   \n",
       "4     Pasajero  De 55 a 59 años  Hombre            7.0   \n",
       "\n",
       "                                           lesividad  coordenada_x_utm  \\\n",
       "0                           Sin asistencia sanitaria        443397.166   \n",
       "1                           Sin asistencia sanitaria        443397.166   \n",
       "2                           Sin asistencia sanitaria        443397.166   \n",
       "3  Asistencia sanitaria sólo en el lugar del acci...        443397.166   \n",
       "4  Asistencia sanitaria sólo en el lugar del acci...        443397.166   \n",
       "\n",
       "   coordenada_y_utm positiva_alcohol  positiva_droga  longitude   latitude  \\\n",
       "0       4478129.388                N               0  -3.667528  40.451898   \n",
       "1       4478129.388                N               0  -3.667528  40.451898   \n",
       "2       4478129.388                N               0  -3.667528  40.451898   \n",
       "3       4478129.388                N               0  -3.667528  40.451898   \n",
       "4       4478129.388                N               0  -3.667528  40.451898   \n",
       "\n",
       "                geohash                road_info  category      type  \\\n",
       "0  ezjqhs1672bpxkbcncp1  Avenida de Alfonso XIII  building  building   \n",
       "1  ezjqhs1672bpxkbcncp1  Avenida de Alfonso XIII  building  building   \n",
       "2  ezjqhs1672bpxkbcncp1  Avenida de Alfonso XIII  building  building   \n",
       "3  ezjqhs1672bpxkbcncp1  Avenida de Alfonso XIII  building  building   \n",
       "4  ezjqhs1672bpxkbcncp1  Avenida de Alfonso XIII  building  building   \n",
       "\n",
       "  house_number postcode        quarter                     road  \\\n",
       "0           37  28016.0  Ciudad Jardín  Avenida de Alfonso XIII   \n",
       "1           37  28016.0  Ciudad Jardín  Avenida de Alfonso XIII   \n",
       "2           37  28016.0  Ciudad Jardín  Avenida de Alfonso XIII   \n",
       "3           37  28016.0  Ciudad Jardín  Avenida de Alfonso XIII   \n",
       "4           37  28016.0  Ciudad Jardín  Avenida de Alfonso XIII   \n",
       "\n",
       "                                          formatted  latitude_api  \\\n",
       "0  Avenida de Alfonso XIII, 37, 28016 Madrid, Spain     40.452052   \n",
       "1  Avenida de Alfonso XIII, 37, 28016 Madrid, Spain     40.452052   \n",
       "2  Avenida de Alfonso XIII, 37, 28016 Madrid, Spain     40.452052   \n",
       "3  Avenida de Alfonso XIII, 37, 28016 Madrid, Spain     40.452052   \n",
       "4  Avenida de Alfonso XIII, 37, 28016 Madrid, Spain     40.452052   \n",
       "\n",
       "   longitude_api                              coordinates_speed_api  \\\n",
       "0      -3.667577  {'latitude': 40.45191182917747, 'longitude': -...   \n",
       "1      -3.667577  {'latitude': 40.45191182917747, 'longitude': -...   \n",
       "2      -3.667577  {'latitude': 40.45191182917747, 'longitude': -...   \n",
       "3      -3.667577  {'latitude': 40.45191182917747, 'longitude': -...   \n",
       "4      -3.667577  {'latitude': 40.45191182917747, 'longitude': -...   \n",
       "\n",
       "       road_name_speed_api  speedlimit_kph_speed_api dia_semana  \\\n",
       "0  Avenida de Alfonso XIII                        50     Sunday   \n",
       "1  Avenida de Alfonso XIII                        50     Sunday   \n",
       "2  Avenida de Alfonso XIII                        50     Sunday   \n",
       "3  Avenida de Alfonso XIII                        50     Sunday   \n",
       "4  Avenida de Alfonso XIII                        50     Sunday   \n",
       "\n",
       "  hora_accidente    int_real  ocupacion  vmed  high_speed_point  hora_rango  \n",
       "0        1:15:00  135.100769   5.347692  73.0                 0           1  \n",
       "1        1:15:00  135.100769   5.347692  73.0                 0           1  \n",
       "2        1:15:00  135.100769   5.347692  73.0                 0           1  \n",
       "3        1:15:00  135.100769   5.347692  73.0                 0           1  \n",
       "4        1:15:00  135.100769   5.347692  73.0                 0           1  "
      ]
     },
     "execution_count": 42,
     "metadata": {},
     "output_type": "execute_result"
    }
   ],
   "source": [
    "df_filter.head()"
   ]
  },
  {
   "cell_type": "code",
   "execution_count": 43,
   "id": "321a3a4b-292a-476e-a471-4c61dcb9f20c",
   "metadata": {},
   "outputs": [
    {
     "data": {
      "text/plain": [
       "36339"
      ]
     },
     "execution_count": 43,
     "metadata": {},
     "output_type": "execute_result"
    }
   ],
   "source": [
    "#Vemos cuantos valores faltantes tenemos luego de rellenar la columna de positiva_droga\n",
    "df_filter.isna().sum().sum() "
   ]
  },
  {
   "cell_type": "code",
   "execution_count": 44,
   "id": "299e9716-d5a0-45ba-950e-3ed5eb27dc62",
   "metadata": {},
   "outputs": [],
   "source": [
    "#Vemos el porcentaje de valores faltantes luego de rellenar la columna de positiva_droga\n",
    "def percentage_missing_data(df):\n",
    "    missing_data_volume = df.isna().sum().sum() / np.product(df.shape) * 100\n",
    "    return f'El volumen de los datos faltan es de: {round(missing_data_volume, 2)}%'"
   ]
  },
  {
   "cell_type": "code",
   "execution_count": 45,
   "id": "aa255373-c7c7-4a4c-a2ce-7fa8c3669436",
   "metadata": {},
   "outputs": [
    {
     "data": {
      "text/plain": [
       "'El volumen de los datos faltan es de: 4.47%'"
      ]
     },
     "execution_count": 45,
     "metadata": {},
     "output_type": "execute_result"
    }
   ],
   "source": [
    "percentage_missing_data(df_filter)"
   ]
  },
  {
   "cell_type": "code",
   "execution_count": 46,
   "id": "3d243ef2-f117-4c50-a709-bb030b30e983",
   "metadata": {},
   "outputs": [],
   "source": [
    "#Graficamos los valores faltantes por columna luego de rellenar la columna de positiva_droga\n",
    "def get_accidentes_nan(Accidentes,n):\n",
    "    Accidentes_nan = (\n",
    "        Accidentes\n",
    "        .isna()\n",
    "        .sum()\n",
    "        .to_frame()\n",
    "        .reset_index()\n",
    "        .rename(columns={'index': 'columnas', 0: 'freq'})\n",
    "    )\n",
    "    Accidentes_nan['%'] = round(Accidentes_nan['freq'] / len(Accidentes) * 100, n)\n",
    "    return Accidentes_nan"
   ]
  },
  {
   "cell_type": "code",
   "execution_count": 47,
   "id": "d683851f-5540-4ab8-86d8-615dbeb450fd",
   "metadata": {},
   "outputs": [],
   "source": [
    "Accidentes_nan = get_accidentes_nan(df_filter, 3)"
   ]
  },
  {
   "cell_type": "code",
   "execution_count": 48,
   "id": "da091931-8cf6-4e0f-bff4-bfd4ecdb76fb",
   "metadata": {},
   "outputs": [
    {
     "data": {
      "text/plain": [
       "<Axes: ylabel='columnas'>"
      ]
     },
     "execution_count": 48,
     "metadata": {},
     "output_type": "execute_result"
    },
    {
     "data": {
      "image/png": "[encoded data removed]",
      "text/plain": [
       "<Figure size 640x480 with 1 Axes>"
      ]
     },
     "metadata": {},
     "output_type": "display_data"
    }
   ],
   "source": [
    "Accidentes_nan.nlargest(30, '%').set_index('columnas')[[ '%']].plot.barh()"
   ]
  },
  {
   "cell_type": "code",
   "execution_count": 49,
   "id": "b036421a-f931-472b-88d7-4a0a9f8d06fc",
   "metadata": {},
   "outputs": [],
   "source": [
    "#Reemplazamos los valores faltantes por su moda ya que son variables categóricas"
   ]
  },
  {
   "cell_type": "code",
   "execution_count": 50,
   "id": "92645bf8-131e-4ee1-a574-2886ecafc549",
   "metadata": {},
   "outputs": [],
   "source": [
    "# Lista de columnas categóricas\n",
    "categorical_columns = ['tipo_vehiculo', 'numero', 'estado_meteorológico', 'cod_lesividad', 'lesividad', \n",
    "                       'positiva_alcohol', \n",
    "                      'rango_edad', 'sexo']"
   ]
  },
  {
   "cell_type": "code",
   "execution_count": 51,
   "id": "1a9fcadb-e8b6-4917-aa3e-e220e8468e64",
   "metadata": {},
   "outputs": [],
   "source": [
    "def fill_missing_with_mode(Accidentes_nuevo, categorical_columns):\n",
    "    for column in categorical_columns:\n",
    "        moda = Accidentes_nuevo[column].mode()[0]\n",
    "        Accidentes_nuevo[column].fillna(moda, inplace=True)\n",
    "        "
   ]
  },
  {
   "cell_type": "code",
   "execution_count": 52,
   "id": "459454e2-68df-4778-89cd-ec8778463987",
   "metadata": {},
   "outputs": [],
   "source": [
    "fill_missing_with_mode(df_filter, categorical_columns)"
   ]
  },
  {
   "cell_type": "code",
   "execution_count": 53,
   "id": "e4283f25-a35f-4302-9b0a-1ae4621f569b",
   "metadata": {
    "tags": []
   },
   "outputs": [
    {
     "data": {
      "text/plain": [
       "num_expediente      0\n",
       "fecha               0\n",
       "hora                0\n",
       "localizacion        0\n",
       "numero              0\n",
       "                   ..\n",
       "int_real            0\n",
       "ocupacion           0\n",
       "vmed                0\n",
       "high_speed_point    0\n",
       "hora_rango          0\n",
       "Length: 42, dtype: int64"
      ]
     },
     "execution_count": 53,
     "metadata": {},
     "output_type": "execute_result"
    }
   ],
   "source": [
    "df_filter.isna().sum()"
   ]
  },
  {
   "cell_type": "code",
   "execution_count": 54,
   "id": "616fa7f0-8c3d-4212-8e14-67e3c7f72b5b",
   "metadata": {},
   "outputs": [
    {
     "data": {
      "text/plain": [
       "(19349, 42)"
      ]
     },
     "execution_count": 54,
     "metadata": {},
     "output_type": "execute_result"
    }
   ],
   "source": [
    "df_filter.shape"
   ]
  },
  {
   "cell_type": "markdown",
   "id": "dbb35d9d-f235-4dc7-9026-3ee15e069716",
   "metadata": {},
   "source": [
    "Guardamos el dataset. Esta columna queda comentada para evitar alterar el dataset"
   ]
  },
  {
   "cell_type": "code",
   "execution_count": 55,
   "id": "38a36ce0-a8b9-499a-9854-0f1489fbedfa",
   "metadata": {},
   "outputs": [],
   "source": [
    "#df_filter.to_csv(f'{data_folder}2023_Accidentalidad_c_g_s_d_clean.csv' , sep = \";\")"
   ]
  },
  {
   "cell_type": "code",
   "execution_count": 56,
   "id": "7f21ab6d-3969-46da-9849-fc9ab0d50ee9",
   "metadata": {},
   "outputs": [],
   "source": [
    "#Sección de Análisis extra con el dataset completo con Apis y limpio"
   ]
  },
  {
   "cell_type": "code",
   "execution_count": 57,
   "id": "03c42dfa-1301-49c5-a4d5-01ccb964ef24",
   "metadata": {},
   "outputs": [],
   "source": [
    "df_Acc = pd.read_csv(f'{data_folder}2023_Accidentalidad_c_g_s_d_clean.csv' , sep = \";\")"
   ]
  },
  {
   "cell_type": "code",
   "execution_count": 58,
   "id": "79376194-aa3f-48f9-bcf6-7ece671851b5",
   "metadata": {},
   "outputs": [],
   "source": [
    "#Analisis extras con el dataset de accidentalidad completo con más varibales\n",
    "#c = coordinates \n",
    "#g = geolocation API applied\n",
    "#s = speed api applied\n",
    "#d = density added"
   ]
  },
  {
   "cell_type": "code",
   "execution_count": 59,
   "id": "2fcd6104-e755-4804-881a-67dde9bcd855",
   "metadata": {},
   "outputs": [],
   "source": [
    "#Vemos las 15 calles donde más accidentes hay\n",
    "top15_accidentes = df_Acc.drop_duplicates(subset='num_expediente').groupby('road_name_speed_api').size().nlargest(15)"
   ]
  },
  {
   "cell_type": "code",
   "execution_count": 60,
   "id": "acef79cc-5248-4f0f-bbd3-e0b5a116e7d2",
   "metadata": {},
   "outputs": [
    {
     "data": {
      "text/plain": [
       "road_name_speed_api\n",
       "M-30                                     258\n",
       "Paseo de la Castellana                   162\n",
       "Calle de Alcalá                          133\n",
       "Calle 30                                 123\n",
       "Avenida de los Poblados                   90\n",
       "Calle del Príncipe de Vergara             66\n",
       "Calle de Arturo Soria                     61\n",
       "Calle de Bravo Murillo                    58\n",
       "Avenida de Andalucía                      53\n",
       "Avenida de la Albufera                    53\n",
       "Calle Gran Vía                            42\n",
       "Calle de O'Donnell                        41\n",
       "Calle de los Hermanos García Noblejas     39\n",
       "A-42                                      38\n",
       "Calle Doctor Esquerdo                     38\n",
       "dtype: int64"
      ]
     },
     "execution_count": 60,
     "metadata": {},
     "output_type": "execute_result"
    }
   ],
   "source": [
    "top15_accidentes"
   ]
  },
  {
   "cell_type": "code",
   "execution_count": 61,
   "id": "a8bdabae-e583-4bf6-b2ff-b4b236585765",
   "metadata": {},
   "outputs": [],
   "source": [
    "#Graficamos las 15 calles donde más accidentes hay\n",
    "df_top15_accidentes = pd.DataFrame(top15_accidentes, columns=['Cantidad de Accidentes'])"
   ]
  },
  {
   "cell_type": "code",
   "execution_count": 62,
   "id": "d2aa1068-9147-4c49-a338-94b49ab0ffbe",
   "metadata": {},
   "outputs": [
    {
     "data": {
      "image/png": "[encoded data removed]",
      "text/plain": [
       "<Figure size 1000x600 with 1 Axes>"
      ]
     },
     "metadata": {},
     "output_type": "display_data"
    }
   ],
   "source": [
    "df_top15_accidentes.plot(kind='bar', figsize=(10, 6), color='skyblue')\n",
    "plt.title('Top 15 Ubicaciones de Carreteras con Mayor Cantidad de Accidentes')\n",
    "plt.xlabel('Ubicación de la Carretera')\n",
    "plt.ylabel('Cantidad de Accidentes')\n",
    "plt.show()"
   ]
  },
  {
   "cell_type": "code",
   "execution_count": 63,
   "id": "ddec77f5-c329-4c93-a810-2ca961fe336f",
   "metadata": {},
   "outputs": [
    {
     "data": {
      "text/html": [
       "<div>\n",
       "<style scoped>\n",
       "    .dataframe tbody tr th:only-of-type {\n",
       "        vertical-align: middle;\n",
       "    }\n",
       "\n",
       "    .dataframe tbody tr th {\n",
       "        vertical-align: top;\n",
       "    }\n",
       "\n",
       "    .dataframe thead th {\n",
       "        text-align: right;\n",
       "    }\n",
       "</style>\n",
       "<table border=\"1\" class=\"dataframe\">\n",
       "  <thead>\n",
       "    <tr style=\"text-align: right;\">\n",
       "      <th></th>\n",
       "      <th>Unnamed: 0</th>\n",
       "      <th>num_expediente</th>\n",
       "      <th>fecha</th>\n",
       "      <th>hora</th>\n",
       "      <th>localizacion</th>\n",
       "      <th>numero</th>\n",
       "      <th>cod_distrito</th>\n",
       "      <th>distrito</th>\n",
       "      <th>tipo_accidente</th>\n",
       "      <th>estado_meteorológico</th>\n",
       "      <th>tipo_vehiculo</th>\n",
       "      <th>tipo_persona</th>\n",
       "      <th>rango_edad</th>\n",
       "      <th>sexo</th>\n",
       "      <th>cod_lesividad</th>\n",
       "      <th>lesividad</th>\n",
       "      <th>coordenada_x_utm</th>\n",
       "      <th>coordenada_y_utm</th>\n",
       "      <th>positiva_alcohol</th>\n",
       "      <th>positiva_droga</th>\n",
       "      <th>longitude</th>\n",
       "      <th>latitude</th>\n",
       "      <th>geohash</th>\n",
       "      <th>road_info</th>\n",
       "      <th>category</th>\n",
       "      <th>type</th>\n",
       "      <th>house_number</th>\n",
       "      <th>postcode</th>\n",
       "      <th>quarter</th>\n",
       "      <th>road</th>\n",
       "      <th>formatted</th>\n",
       "      <th>latitude_api</th>\n",
       "      <th>longitude_api</th>\n",
       "      <th>coordinates_speed_api</th>\n",
       "      <th>road_name_speed_api</th>\n",
       "      <th>speedlimit_kph_speed_api</th>\n",
       "      <th>dia_semana</th>\n",
       "      <th>hora_accidente</th>\n",
       "      <th>int_real</th>\n",
       "      <th>ocupacion</th>\n",
       "      <th>vmed</th>\n",
       "      <th>high_speed_point</th>\n",
       "      <th>hora_rango</th>\n",
       "    </tr>\n",
       "  </thead>\n",
       "  <tbody>\n",
       "    <tr>\n",
       "      <th>0</th>\n",
       "      <td>0</td>\n",
       "      <td>2023S000001</td>\n",
       "      <td>2023-01-01</td>\n",
       "      <td>01:15:00</td>\n",
       "      <td>AVDA. ALFONSO XIII, 33</td>\n",
       "      <td>33</td>\n",
       "      <td>5</td>\n",
       "      <td>Chamartín</td>\n",
       "      <td>Alcance</td>\n",
       "      <td>Despejado</td>\n",
       "      <td>Todo terreno</td>\n",
       "      <td>Conductor</td>\n",
       "      <td>De 55 a 59 años</td>\n",
       "      <td>Mujer</td>\n",
       "      <td>14.0</td>\n",
       "      <td>Sin asistencia sanitaria</td>\n",
       "      <td>443397.166</td>\n",
       "      <td>4478129.388</td>\n",
       "      <td>N</td>\n",
       "      <td>0</td>\n",
       "      <td>-3.667528</td>\n",
       "      <td>40.451898</td>\n",
       "      <td>ezjqhs1672bpxkbcncp1</td>\n",
       "      <td>Avenida de Alfonso XIII</td>\n",
       "      <td>building</td>\n",
       "      <td>building</td>\n",
       "      <td>37</td>\n",
       "      <td>28016.0</td>\n",
       "      <td>Ciudad Jardín</td>\n",
       "      <td>Avenida de Alfonso XIII</td>\n",
       "      <td>Avenida de Alfonso XIII, 37, 28016 Madrid, Spain</td>\n",
       "      <td>40.452052</td>\n",
       "      <td>-3.667577</td>\n",
       "      <td>{'latitude': 40.45191182917747, 'longitude': -...</td>\n",
       "      <td>Avenida de Alfonso XIII</td>\n",
       "      <td>50</td>\n",
       "      <td>Sunday</td>\n",
       "      <td>1:15:00</td>\n",
       "      <td>135.100769</td>\n",
       "      <td>5.347692</td>\n",
       "      <td>73.0</td>\n",
       "      <td>0</td>\n",
       "      <td>1</td>\n",
       "    </tr>\n",
       "    <tr>\n",
       "      <th>1</th>\n",
       "      <td>1</td>\n",
       "      <td>2023S000001</td>\n",
       "      <td>2023-01-01</td>\n",
       "      <td>01:15:00</td>\n",
       "      <td>AVDA. ALFONSO XIII, 33</td>\n",
       "      <td>33</td>\n",
       "      <td>5</td>\n",
       "      <td>Chamartín</td>\n",
       "      <td>Alcance</td>\n",
       "      <td>Despejado</td>\n",
       "      <td>Todo terreno</td>\n",
       "      <td>Pasajero</td>\n",
       "      <td>De 21 a 24 años</td>\n",
       "      <td>Hombre</td>\n",
       "      <td>14.0</td>\n",
       "      <td>Sin asistencia sanitaria</td>\n",
       "      <td>443397.166</td>\n",
       "      <td>4478129.388</td>\n",
       "      <td>N</td>\n",
       "      <td>0</td>\n",
       "      <td>-3.667528</td>\n",
       "      <td>40.451898</td>\n",
       "      <td>ezjqhs1672bpxkbcncp1</td>\n",
       "      <td>Avenida de Alfonso XIII</td>\n",
       "      <td>building</td>\n",
       "      <td>building</td>\n",
       "      <td>37</td>\n",
       "      <td>28016.0</td>\n",
       "      <td>Ciudad Jardín</td>\n",
       "      <td>Avenida de Alfonso XIII</td>\n",
       "      <td>Avenida de Alfonso XIII, 37, 28016 Madrid, Spain</td>\n",
       "      <td>40.452052</td>\n",
       "      <td>-3.667577</td>\n",
       "      <td>{'latitude': 40.45191182917747, 'longitude': -...</td>\n",
       "      <td>Avenida de Alfonso XIII</td>\n",
       "      <td>50</td>\n",
       "      <td>Sunday</td>\n",
       "      <td>1:15:00</td>\n",
       "      <td>135.100769</td>\n",
       "      <td>5.347692</td>\n",
       "      <td>73.0</td>\n",
       "      <td>0</td>\n",
       "      <td>1</td>\n",
       "    </tr>\n",
       "    <tr>\n",
       "      <th>2</th>\n",
       "      <td>2</td>\n",
       "      <td>2023S000001</td>\n",
       "      <td>2023-01-01</td>\n",
       "      <td>01:15:00</td>\n",
       "      <td>AVDA. ALFONSO XIII, 33</td>\n",
       "      <td>33</td>\n",
       "      <td>5</td>\n",
       "      <td>Chamartín</td>\n",
       "      <td>Alcance</td>\n",
       "      <td>Despejado</td>\n",
       "      <td>Todo terreno</td>\n",
       "      <td>Pasajero</td>\n",
       "      <td>De 21 a 24 años</td>\n",
       "      <td>Hombre</td>\n",
       "      <td>14.0</td>\n",
       "      <td>Sin asistencia sanitaria</td>\n",
       "      <td>443397.166</td>\n",
       "      <td>4478129.388</td>\n",
       "      <td>N</td>\n",
       "      <td>0</td>\n",
       "      <td>-3.667528</td>\n",
       "      <td>40.451898</td>\n",
       "      <td>ezjqhs1672bpxkbcncp1</td>\n",
       "      <td>Avenida de Alfonso XIII</td>\n",
       "      <td>building</td>\n",
       "      <td>building</td>\n",
       "      <td>37</td>\n",
       "      <td>28016.0</td>\n",
       "      <td>Ciudad Jardín</td>\n",
       "      <td>Avenida de Alfonso XIII</td>\n",
       "      <td>Avenida de Alfonso XIII, 37, 28016 Madrid, Spain</td>\n",
       "      <td>40.452052</td>\n",
       "      <td>-3.667577</td>\n",
       "      <td>{'latitude': 40.45191182917747, 'longitude': -...</td>\n",
       "      <td>Avenida de Alfonso XIII</td>\n",
       "      <td>50</td>\n",
       "      <td>Sunday</td>\n",
       "      <td>1:15:00</td>\n",
       "      <td>135.100769</td>\n",
       "      <td>5.347692</td>\n",
       "      <td>73.0</td>\n",
       "      <td>0</td>\n",
       "      <td>1</td>\n",
       "    </tr>\n",
       "    <tr>\n",
       "      <th>3</th>\n",
       "      <td>3</td>\n",
       "      <td>2023S000001</td>\n",
       "      <td>2023-01-01</td>\n",
       "      <td>01:15:00</td>\n",
       "      <td>AVDA. ALFONSO XIII, 33</td>\n",
       "      <td>33</td>\n",
       "      <td>5</td>\n",
       "      <td>Chamartín</td>\n",
       "      <td>Alcance</td>\n",
       "      <td>Despejado</td>\n",
       "      <td>Todo terreno</td>\n",
       "      <td>Pasajero</td>\n",
       "      <td>De 21 a 24 años</td>\n",
       "      <td>Mujer</td>\n",
       "      <td>7.0</td>\n",
       "      <td>Asistencia sanitaria sólo en el lugar del acci...</td>\n",
       "      <td>443397.166</td>\n",
       "      <td>4478129.388</td>\n",
       "      <td>N</td>\n",
       "      <td>0</td>\n",
       "      <td>-3.667528</td>\n",
       "      <td>40.451898</td>\n",
       "      <td>ezjqhs1672bpxkbcncp1</td>\n",
       "      <td>Avenida de Alfonso XIII</td>\n",
       "      <td>building</td>\n",
       "      <td>building</td>\n",
       "      <td>37</td>\n",
       "      <td>28016.0</td>\n",
       "      <td>Ciudad Jardín</td>\n",
       "      <td>Avenida de Alfonso XIII</td>\n",
       "      <td>Avenida de Alfonso XIII, 37, 28016 Madrid, Spain</td>\n",
       "      <td>40.452052</td>\n",
       "      <td>-3.667577</td>\n",
       "      <td>{'latitude': 40.45191182917747, 'longitude': -...</td>\n",
       "      <td>Avenida de Alfonso XIII</td>\n",
       "      <td>50</td>\n",
       "      <td>Sunday</td>\n",
       "      <td>1:15:00</td>\n",
       "      <td>135.100769</td>\n",
       "      <td>5.347692</td>\n",
       "      <td>73.0</td>\n",
       "      <td>0</td>\n",
       "      <td>1</td>\n",
       "    </tr>\n",
       "    <tr>\n",
       "      <th>4</th>\n",
       "      <td>4</td>\n",
       "      <td>2023S000001</td>\n",
       "      <td>2023-01-01</td>\n",
       "      <td>01:15:00</td>\n",
       "      <td>AVDA. ALFONSO XIII, 33</td>\n",
       "      <td>33</td>\n",
       "      <td>5</td>\n",
       "      <td>Chamartín</td>\n",
       "      <td>Alcance</td>\n",
       "      <td>Despejado</td>\n",
       "      <td>Todo terreno</td>\n",
       "      <td>Pasajero</td>\n",
       "      <td>De 55 a 59 años</td>\n",
       "      <td>Hombre</td>\n",
       "      <td>7.0</td>\n",
       "      <td>Asistencia sanitaria sólo en el lugar del acci...</td>\n",
       "      <td>443397.166</td>\n",
       "      <td>4478129.388</td>\n",
       "      <td>N</td>\n",
       "      <td>0</td>\n",
       "      <td>-3.667528</td>\n",
       "      <td>40.451898</td>\n",
       "      <td>ezjqhs1672bpxkbcncp1</td>\n",
       "      <td>Avenida de Alfonso XIII</td>\n",
       "      <td>building</td>\n",
       "      <td>building</td>\n",
       "      <td>37</td>\n",
       "      <td>28016.0</td>\n",
       "      <td>Ciudad Jardín</td>\n",
       "      <td>Avenida de Alfonso XIII</td>\n",
       "      <td>Avenida de Alfonso XIII, 37, 28016 Madrid, Spain</td>\n",
       "      <td>40.452052</td>\n",
       "      <td>-3.667577</td>\n",
       "      <td>{'latitude': 40.45191182917747, 'longitude': -...</td>\n",
       "      <td>Avenida de Alfonso XIII</td>\n",
       "      <td>50</td>\n",
       "      <td>Sunday</td>\n",
       "      <td>1:15:00</td>\n",
       "      <td>135.100769</td>\n",
       "      <td>5.347692</td>\n",
       "      <td>73.0</td>\n",
       "      <td>0</td>\n",
       "      <td>1</td>\n",
       "    </tr>\n",
       "  </tbody>\n",
       "</table>\n",
       "</div>"
      ],
      "text/plain": [
       "   Unnamed: 0 num_expediente       fecha      hora            localizacion  \\\n",
       "0           0    2023S000001  2023-01-01  01:15:00  AVDA. ALFONSO XIII, 33   \n",
       "1           1    2023S000001  2023-01-01  01:15:00  AVDA. ALFONSO XIII, 33   \n",
       "2           2    2023S000001  2023-01-01  01:15:00  AVDA. ALFONSO XIII, 33   \n",
       "3           3    2023S000001  2023-01-01  01:15:00  AVDA. ALFONSO XIII, 33   \n",
       "4           4    2023S000001  2023-01-01  01:15:00  AVDA. ALFONSO XIII, 33   \n",
       "\n",
       "  numero  cod_distrito   distrito tipo_accidente estado_meteorológico  \\\n",
       "0     33             5  Chamartín        Alcance            Despejado   \n",
       "1     33             5  Chamartín        Alcance            Despejado   \n",
       "2     33             5  Chamartín        Alcance            Despejado   \n",
       "3     33             5  Chamartín        Alcance            Despejado   \n",
       "4     33             5  Chamartín        Alcance            Despejado   \n",
       "\n",
       "  tipo_vehiculo tipo_persona       rango_edad    sexo  cod_lesividad  \\\n",
       "0  Todo terreno    Conductor  De 55 a 59 años   Mujer           14.0   \n",
       "1  Todo terreno     Pasajero  De 21 a 24 años  Hombre           14.0   \n",
       "2  Todo terreno     Pasajero  De 21 a 24 años  Hombre           14.0   \n",
       "3  Todo terreno     Pasajero  De 21 a 24 años   Mujer            7.0   \n",
       "4  Todo terreno     Pasajero  De 55 a 59 años  Hombre            7.0   \n",
       "\n",
       "                                           lesividad  coordenada_x_utm  \\\n",
       "0                           Sin asistencia sanitaria        443397.166   \n",
       "1                           Sin asistencia sanitaria        443397.166   \n",
       "2                           Sin asistencia sanitaria        443397.166   \n",
       "3  Asistencia sanitaria sólo en el lugar del acci...        443397.166   \n",
       "4  Asistencia sanitaria sólo en el lugar del acci...        443397.166   \n",
       "\n",
       "   coordenada_y_utm positiva_alcohol  positiva_droga  longitude   latitude  \\\n",
       "0       4478129.388                N               0  -3.667528  40.451898   \n",
       "1       4478129.388                N               0  -3.667528  40.451898   \n",
       "2       4478129.388                N               0  -3.667528  40.451898   \n",
       "3       4478129.388                N               0  -3.667528  40.451898   \n",
       "4       4478129.388                N               0  -3.667528  40.451898   \n",
       "\n",
       "                geohash                road_info  category      type  \\\n",
       "0  ezjqhs1672bpxkbcncp1  Avenida de Alfonso XIII  building  building   \n",
       "1  ezjqhs1672bpxkbcncp1  Avenida de Alfonso XIII  building  building   \n",
       "2  ezjqhs1672bpxkbcncp1  Avenida de Alfonso XIII  building  building   \n",
       "3  ezjqhs1672bpxkbcncp1  Avenida de Alfonso XIII  building  building   \n",
       "4  ezjqhs1672bpxkbcncp1  Avenida de Alfonso XIII  building  building   \n",
       "\n",
       "  house_number  postcode        quarter                     road  \\\n",
       "0           37   28016.0  Ciudad Jardín  Avenida de Alfonso XIII   \n",
       "1           37   28016.0  Ciudad Jardín  Avenida de Alfonso XIII   \n",
       "2           37   28016.0  Ciudad Jardín  Avenida de Alfonso XIII   \n",
       "3           37   28016.0  Ciudad Jardín  Avenida de Alfonso XIII   \n",
       "4           37   28016.0  Ciudad Jardín  Avenida de Alfonso XIII   \n",
       "\n",
       "                                          formatted  latitude_api  \\\n",
       "0  Avenida de Alfonso XIII, 37, 28016 Madrid, Spain     40.452052   \n",
       "1  Avenida de Alfonso XIII, 37, 28016 Madrid, Spain     40.452052   \n",
       "2  Avenida de Alfonso XIII, 37, 28016 Madrid, Spain     40.452052   \n",
       "3  Avenida de Alfonso XIII, 37, 28016 Madrid, Spain     40.452052   \n",
       "4  Avenida de Alfonso XIII, 37, 28016 Madrid, Spain     40.452052   \n",
       "\n",
       "   longitude_api                              coordinates_speed_api  \\\n",
       "0      -3.667577  {'latitude': 40.45191182917747, 'longitude': -...   \n",
       "1      -3.667577  {'latitude': 40.45191182917747, 'longitude': -...   \n",
       "2      -3.667577  {'latitude': 40.45191182917747, 'longitude': -...   \n",
       "3      -3.667577  {'latitude': 40.45191182917747, 'longitude': -...   \n",
       "4      -3.667577  {'latitude': 40.45191182917747, 'longitude': -...   \n",
       "\n",
       "       road_name_speed_api  speedlimit_kph_speed_api dia_semana  \\\n",
       "0  Avenida de Alfonso XIII                        50     Sunday   \n",
       "1  Avenida de Alfonso XIII                        50     Sunday   \n",
       "2  Avenida de Alfonso XIII                        50     Sunday   \n",
       "3  Avenida de Alfonso XIII                        50     Sunday   \n",
       "4  Avenida de Alfonso XIII                        50     Sunday   \n",
       "\n",
       "  hora_accidente    int_real  ocupacion  vmed  high_speed_point  hora_rango  \n",
       "0        1:15:00  135.100769   5.347692  73.0                 0           1  \n",
       "1        1:15:00  135.100769   5.347692  73.0                 0           1  \n",
       "2        1:15:00  135.100769   5.347692  73.0                 0           1  \n",
       "3        1:15:00  135.100769   5.347692  73.0                 0           1  \n",
       "4        1:15:00  135.100769   5.347692  73.0                 0           1  "
      ]
     },
     "execution_count": 63,
     "metadata": {},
     "output_type": "execute_result"
    }
   ],
   "source": [
    "df_Acc.head()"
   ]
  },
  {
   "cell_type": "code",
   "execution_count": 64,
   "id": "414f52c3-db9d-44fd-84ed-f6c8f96368bd",
   "metadata": {},
   "outputs": [],
   "source": [
    "top15_victimas = df_Acc.groupby('road_name_speed_api').size().nlargest(15)"
   ]
  },
  {
   "cell_type": "code",
   "execution_count": 65,
   "id": "2d863efb-4d91-4bba-a85b-61079e2d55ee",
   "metadata": {},
   "outputs": [
    {
     "data": {
      "text/plain": [
       "road_name_speed_api\n",
       "M-30                             681\n",
       "Paseo de la Castellana           376\n",
       "Calle 30                         340\n",
       "Calle de Alcalá                  340\n",
       "Avenida de los Poblados          240\n",
       "Calle de Arturo Soria            166\n",
       "Calle del Príncipe de Vergara    153\n",
       "Avenida de Andalucía             145\n",
       "Avenida de la Albufera           141\n",
       "Calle de Bravo Murillo           125\n",
       "Calle de O'Donnell               106\n",
       "Calle Gran Vía                    99\n",
       "A-42                              98\n",
       "Calle de Francisco Silvela        98\n",
       "Calle de María de Molina          98\n",
       "dtype: int64"
      ]
     },
     "execution_count": 65,
     "metadata": {},
     "output_type": "execute_result"
    }
   ],
   "source": [
    "top15_victimas"
   ]
  },
  {
   "cell_type": "code",
   "execution_count": 66,
   "id": "4f432ac5-db3f-442c-bc80-bf41e50670d0",
   "metadata": {},
   "outputs": [],
   "source": [
    "df_top15_victimas = pd.DataFrame(top15_victimas, columns=['Cantidad de Accidentes'])"
   ]
  },
  {
   "cell_type": "code",
   "execution_count": 67,
   "id": "8e8262d4-d9d3-44d9-8365-cb13a910e109",
   "metadata": {},
   "outputs": [
    {
     "data": {
      "image/png": "[encoded data removed]",
      "text/plain": [
       "<Figure size 1000x600 with 1 Axes>"
      ]
     },
     "metadata": {},
     "output_type": "display_data"
    }
   ],
   "source": [
    "df_top15_victimas.plot(kind='bar', figsize=(10, 6), color='skyblue')\n",
    "plt.title('Top 15 Ubicaciones de Carreteras con Mayor Cantidad de victimas')\n",
    "plt.xlabel('Ubicación de la Carretera')\n",
    "plt.ylabel('Cantidad de Accidentes')\n",
    "plt.show()"
   ]
  }
 ],
 "metadata": {
  "kernelspec": {
   "display_name": "Python 3 (ipykernel)",
   "language": "python",
   "name": "python3"
  },
  "language_info": {
   "codemirror_mode": {
    "name": "ipython",
    "version": 3
   },
   "file_extension": ".py",
   "mimetype": "text/x-python",
   "name": "python",
   "nbconvert_exporter": "python",
   "pygments_lexer": "ipython3",
   "version": "3.10.0"
  }
 },
 "nbformat": 4,
 "nbformat_minor": 5
}
