{
 "cells": [
  {
   "cell_type": "markdown",
   "id": "2af9c44b-3f9b-4cca-8b5a-ca9b6e9830e4",
   "metadata": {},
   "source": [
    "## Analísis de los Datasets de densidad "
   ]
  },
  {
   "cell_type": "code",
   "execution_count": 1,
   "id": "a6f4d23c-65b7-46e7-a414-8c6ffaed3d0b",
   "metadata": {},
   "outputs": [],
   "source": [
    "import pandas as pd"
   ]
  },
  {
   "cell_type": "code",
   "execution_count": 2,
   "id": "07df96de-400e-469e-9168-dcd680220d38",
   "metadata": {},
   "outputs": [],
   "source": [
    "density_folder= '../Files/density/'"
   ]
  },
  {
   "cell_type": "code",
   "execution_count": 3,
   "id": "722f9624-32e5-4f95-835d-b9ded3ca5611",
   "metadata": {},
   "outputs": [],
   "source": [
    "df_densidad = (pd.read_csv(f'{density_folder}01-2023.csv', sep = \";\"))\n",
    "df_densidad['vmed'] = df_densidad['vmed'].fillna(0)"
   ]
  },
  {
   "cell_type": "markdown",
   "id": "62fffea8-8283-4985-858c-7d9f9a26e8ab",
   "metadata": {},
   "source": [
    "Total Rows:"
   ]
  },
  {
   "cell_type": "code",
   "execution_count": 4,
   "id": "924ba6c9-c8f0-484b-af84-a7c98ef9b370",
   "metadata": {},
   "outputs": [
    {
     "data": {
      "text/plain": [
       "12644350"
      ]
     },
     "execution_count": 4,
     "metadata": {},
     "output_type": "execute_result"
    }
   ],
   "source": [
    "df_densidad.shape[0]"
   ]
  },
  {
   "cell_type": "markdown",
   "id": "2f45b2b9-2156-41f6-a80e-b275a97f08fd",
   "metadata": {},
   "source": [
    "vmed nulls"
   ]
  },
  {
   "cell_type": "code",
   "execution_count": 5,
   "id": "7546b0d0-395c-465c-9a8f-128927a45f63",
   "metadata": {},
   "outputs": [
    {
     "data": {
      "text/plain": [
       "0"
      ]
     },
     "execution_count": 5,
     "metadata": {},
     "output_type": "execute_result"
    }
   ],
   "source": [
    "df_densidad[df_densidad['vmed'].isnull()].shape[0]"
   ]
  },
  {
   "cell_type": "markdown",
   "id": "b6e654a4-a25c-49f3-987e-7fb8ec179b98",
   "metadata": {},
   "source": [
    "intensidad nulls"
   ]
  },
  {
   "cell_type": "code",
   "execution_count": 6,
   "id": "d69f6621-dc67-4a7b-861c-676997793ec5",
   "metadata": {},
   "outputs": [
    {
     "data": {
      "text/plain": [
       "0"
      ]
     },
     "execution_count": 6,
     "metadata": {},
     "output_type": "execute_result"
    }
   ],
   "source": [
    "df_densidad[df_densidad['intensidad'].isnull()].shape[0]"
   ]
  },
  {
   "cell_type": "markdown",
   "id": "b09b954a-430b-4d41-a54d-7c00584f9b66",
   "metadata": {},
   "source": [
    "Check carga nulls"
   ]
  },
  {
   "cell_type": "code",
   "execution_count": 7,
   "id": "7a6ff004-bada-431f-ac92-eac81f7f29d6",
   "metadata": {},
   "outputs": [
    {
     "data": {
      "text/plain": [
       "0"
      ]
     },
     "execution_count": 7,
     "metadata": {},
     "output_type": "execute_result"
    }
   ],
   "source": [
    "df_densidad[df_densidad['carga'].isnull()].shape[0]"
   ]
  },
  {
   "cell_type": "code",
   "execution_count": 8,
   "id": "32408279-42c8-4bb0-8ccd-e4a1201123f3",
   "metadata": {},
   "outputs": [
    {
     "data": {
      "text/plain": [
       "0"
      ]
     },
     "execution_count": 8,
     "metadata": {},
     "output_type": "execute_result"
    }
   ],
   "source": [
    "df_densidad[~(df_densidad['error'].isnull() | (df_densidad['error'] == 'N'))].shape[0]"
   ]
  },
  {
   "cell_type": "markdown",
   "id": "42d4c490-3d9a-4ac8-a485-d6baef6a401c",
   "metadata": {},
   "source": [
    "Total vmed 0s"
   ]
  },
  {
   "cell_type": "code",
   "execution_count": 9,
   "id": "1f3fbcf9-1250-4cc7-ac11-3f19762fd6d1",
   "metadata": {},
   "outputs": [
    {
     "data": {
      "text/plain": [
       "11498052"
      ]
     },
     "execution_count": 9,
     "metadata": {},
     "output_type": "execute_result"
    }
   ],
   "source": [
    "df_densidad[df_densidad['vmed']== 0 ].shape[0]"
   ]
  },
  {
   "cell_type": "markdown",
   "id": "af3d5493-d8f5-41b2-8ec8-e2323a1213b3",
   "metadata": {},
   "source": [
    "Calcular porcentaje de 0s"
   ]
  },
  {
   "cell_type": "code",
   "execution_count": 10,
   "id": "247961e8-0e31-4d07-ab42-782f5fc36c23",
   "metadata": {},
   "outputs": [
    {
     "name": "stdout",
     "output_type": "stream",
     "text": [
      "The percentage of rows where 'vmed' is 0 is: 90.93%\n"
     ]
    }
   ],
   "source": [
    "pct_vmed_zero = (df_densidad[df_densidad['vmed']== 0 ].shape[0] /  df_densidad.shape[0])  * 100  # Calculate the percentage\n",
    "print(f\"The percentage of rows where 'vmed' is 0 is: {pct_vmed_zero:.2f}%\")"
   ]
  },
  {
   "cell_type": "code",
   "execution_count": 11,
   "id": "5a618c97-3c52-434c-93ea-16fa4833a2a3",
   "metadata": {},
   "outputs": [],
   "source": [
    "def merge_dataset(month,density_folder):\n",
    "    #This program will join the density data which its density location file for each month\n",
    "\n",
    "    print(f'start processing month {month}')\n",
    "    #Open the datasets\n",
    "    df_ubicacion = pd.read_csv(f'{density_folder}pmed_ubicacion_{month}-2023.csv', sep= \";\" )\n",
    "    df_densidad = pd.read_csv(f'{density_folder}{month}-2023.csv', sep = \";\")\n",
    "    \n",
    "    #df_densidad['vmed'] = df_densidad['vmed'].fillna(0)\n",
    "    df_densidad[['fecha', 'hora']] = df_densidad['fecha'].str.split(' ', expand=True)\n",
    "    df_densidad['int_real'] = df_densidad['intensidad']/4 #As per documentation \"intensidad\" is marked as vehicles/hour so to get the real intensidad in 15 min intervals we need to divide by four\n",
    "    df_ubicacion['cod_distrito'] = df_ubicacion['distrito']  \n",
    "    \n",
    "    print(f'before merge month {month}')\n",
    "    \n",
    "    df = (\n",
    "        pd.merge(df_densidad, df_ubicacion, on='id')[['fecha' ,  'cod_distrito'  , 'int_real' , 'ocupacion' , 'vmed' , 'hora']]\n",
    "        .groupby(['cod_distrito', 'fecha' , 'hora' ]).agg({\n",
    "                                    'int_real': 'mean',\n",
    "                                    'ocupacion': 'mean',\n",
    "                                    'vmed':  lambda x: x[x > 0].mean()})\n",
    "        .assign(vmed=lambda x: x['vmed'].fillna(0))                                    \n",
    "        .reset_index()\n",
    "    )       \n",
    "    \n",
    "    print(f'finish processing month {month}')\n",
    "    return df"
   ]
  },
  {
   "cell_type": "code",
   "execution_count": 12,
   "id": "588bad81-7607-40e4-93e2-fe1434f296a0",
   "metadata": {},
   "outputs": [
    {
     "name": "stdout",
     "output_type": "stream",
     "text": [
      "start processing month 01\n",
      "before merge month 01\n",
      "finish processing month 01\n",
      "start processing month 02\n",
      "before merge month 02\n",
      "finish processing month 02\n",
      "start processing month 03\n",
      "before merge month 03\n",
      "finish processing month 03\n",
      "start processing month 04\n",
      "before merge month 04\n",
      "finish processing month 04\n",
      "start processing month 05\n",
      "before merge month 05\n",
      "finish processing month 05\n"
     ]
    }
   ],
   "source": [
    "dfs= []\n",
    "for i in range(1, 6):\n",
    "    df = merge_dataset(f\"{i:02}\" , density_folder)\n",
    "    dfs.append(df)\n",
    "    \n",
    "if len(dfs)>0:\n",
    "    dfd = pd.concat(dfs , ignore_index= True)    \n",
    "\n",
    "dfdg =dfd.groupby(['cod_distrito', 'fecha' , 'hora' ]).agg({\n",
    "                                        'int_real': 'mean',\n",
    "                                        'ocupacion': 'mean',\n",
    "                                        'vmed':  lambda x: x[x > 0].mean()}).assign(vmed=lambda x: x['vmed'].fillna(0)).reset_index()\n",
    "\n",
    "#dfdg.to_csv('../Files/2023_densidad.csv' , sep = \";\" , index=False )    "
   ]
  },
  {
   "cell_type": "markdown",
   "id": "8bf1381b-e371-446b-bcc0-993d2b8a3903",
   "metadata": {},
   "source": [
    "Vemos las mediciones por distrito. Se puede ver que hay muchos puntos de medición que dan 0, pero algunos distritos si muestran una métrica correcta, entre 50-75 kmh"
   ]
  },
  {
   "cell_type": "code",
   "execution_count": 13,
   "id": "b0eb832f-96d0-446f-a8a5-3d176e896d92",
   "metadata": {},
   "outputs": [
    {
     "data": {
      "text/html": [
       "<div>\n",
       "<style scoped>\n",
       "    .dataframe tbody tr th:only-of-type {\n",
       "        vertical-align: middle;\n",
       "    }\n",
       "\n",
       "    .dataframe tbody tr th {\n",
       "        vertical-align: top;\n",
       "    }\n",
       "\n",
       "    .dataframe thead th {\n",
       "        text-align: right;\n",
       "    }\n",
       "</style>\n",
       "<table border=\"1\" class=\"dataframe\">\n",
       "  <thead>\n",
       "    <tr style=\"text-align: right;\">\n",
       "      <th></th>\n",
       "      <th>vmed</th>\n",
       "    </tr>\n",
       "    <tr>\n",
       "      <th>cod_distrito</th>\n",
       "      <th></th>\n",
       "    </tr>\n",
       "  </thead>\n",
       "  <tbody>\n",
       "    <tr>\n",
       "      <th>1.0</th>\n",
       "      <td>56.981803</td>\n",
       "    </tr>\n",
       "    <tr>\n",
       "      <th>2.0</th>\n",
       "      <td>60.312310</td>\n",
       "    </tr>\n",
       "    <tr>\n",
       "      <th>3.0</th>\n",
       "      <td>69.157575</td>\n",
       "    </tr>\n",
       "    <tr>\n",
       "      <th>4.0</th>\n",
       "      <td>73.263078</td>\n",
       "    </tr>\n",
       "    <tr>\n",
       "      <th>5.0</th>\n",
       "      <td>68.553823</td>\n",
       "    </tr>\n",
       "    <tr>\n",
       "      <th>6.0</th>\n",
       "      <td>0.000000</td>\n",
       "    </tr>\n",
       "    <tr>\n",
       "      <th>7.0</th>\n",
       "      <td>0.000000</td>\n",
       "    </tr>\n",
       "    <tr>\n",
       "      <th>8.0</th>\n",
       "      <td>66.716198</td>\n",
       "    </tr>\n",
       "    <tr>\n",
       "      <th>9.0</th>\n",
       "      <td>66.752491</td>\n",
       "    </tr>\n",
       "    <tr>\n",
       "      <th>10.0</th>\n",
       "      <td>58.136600</td>\n",
       "    </tr>\n",
       "    <tr>\n",
       "      <th>11.0</th>\n",
       "      <td>52.331404</td>\n",
       "    </tr>\n",
       "    <tr>\n",
       "      <th>12.0</th>\n",
       "      <td>62.766008</td>\n",
       "    </tr>\n",
       "    <tr>\n",
       "      <th>13.0</th>\n",
       "      <td>66.678136</td>\n",
       "    </tr>\n",
       "    <tr>\n",
       "      <th>14.0</th>\n",
       "      <td>71.436573</td>\n",
       "    </tr>\n",
       "    <tr>\n",
       "      <th>15.0</th>\n",
       "      <td>74.171218</td>\n",
       "    </tr>\n",
       "    <tr>\n",
       "      <th>16.0</th>\n",
       "      <td>64.194930</td>\n",
       "    </tr>\n",
       "    <tr>\n",
       "      <th>17.0</th>\n",
       "      <td>0.000000</td>\n",
       "    </tr>\n",
       "    <tr>\n",
       "      <th>18.0</th>\n",
       "      <td>0.000000</td>\n",
       "    </tr>\n",
       "    <tr>\n",
       "      <th>19.0</th>\n",
       "      <td>0.000000</td>\n",
       "    </tr>\n",
       "    <tr>\n",
       "      <th>20.0</th>\n",
       "      <td>0.000000</td>\n",
       "    </tr>\n",
       "    <tr>\n",
       "      <th>21.0</th>\n",
       "      <td>0.000000</td>\n",
       "    </tr>\n",
       "  </tbody>\n",
       "</table>\n",
       "</div>"
      ],
      "text/plain": [
       "                   vmed\n",
       "cod_distrito           \n",
       "1.0           56.981803\n",
       "2.0           60.312310\n",
       "3.0           69.157575\n",
       "4.0           73.263078\n",
       "5.0           68.553823\n",
       "6.0            0.000000\n",
       "7.0            0.000000\n",
       "8.0           66.716198\n",
       "9.0           66.752491\n",
       "10.0          58.136600\n",
       "11.0          52.331404\n",
       "12.0          62.766008\n",
       "13.0          66.678136\n",
       "14.0          71.436573\n",
       "15.0          74.171218\n",
       "16.0          64.194930\n",
       "17.0           0.000000\n",
       "18.0           0.000000\n",
       "19.0           0.000000\n",
       "20.0           0.000000\n",
       "21.0           0.000000"
      ]
     },
     "execution_count": 13,
     "metadata": {},
     "output_type": "execute_result"
    }
   ],
   "source": [
    "dfdg.groupby(['cod_distrito']).agg({'vmed':lambda x: x[x > 0].mean()}).assign(vmed=lambda x: x['vmed'].fillna(0))"
   ]
  },
  {
   "cell_type": "code",
   "execution_count": 22,
   "id": "374b4cf5-264b-4e15-bfa2-98f02b09bea8",
   "metadata": {},
   "outputs": [
    {
     "name": "stdout",
     "output_type": "stream",
     "text": [
      "The percentage of rows where 'vmed' is 0 is: 0.81%\n"
     ]
    }
   ],
   "source": [
    "pct_vmed_zero = (dfd[dfd['vmed']== 0 ].shape[0] /  df_densidad.shape[0])  * 100  # Calculate the percentage\n",
    "print(f\"The percentage of rows where 'vmed' is 0 is: {pct_vmed_zero:.2f}%\")"
   ]
  },
  {
   "cell_type": "code",
   "execution_count": 29,
   "id": "383a373c-6721-4db8-a1b0-b71e030848f2",
   "metadata": {},
   "outputs": [
    {
     "data": {
      "text/plain": [
       "21"
      ]
     },
     "execution_count": 29,
     "metadata": {},
     "output_type": "execute_result"
    }
   ],
   "source": [
    "dfdg.shape[0]"
   ]
  },
  {
   "cell_type": "code",
   "execution_count": 30,
   "id": "67173d21-e93a-4b5c-9ead-f5dd1d023dfc",
   "metadata": {},
   "outputs": [
    {
     "data": {
      "text/plain": [
       "0"
      ]
     },
     "execution_count": 30,
     "metadata": {},
     "output_type": "execute_result"
    }
   ],
   "source": [
    "dfdg[dfdg['vmed'].isnull()].shape[0]"
   ]
  },
  {
   "cell_type": "code",
   "execution_count": 31,
   "id": "dcba2cdf-64f9-434d-a66b-8cec7fca3306",
   "metadata": {},
   "outputs": [
    {
     "name": "stdout",
     "output_type": "stream",
     "text": [
      "The percentage of rows where 'vmed' is 0 is: 90.93%\n"
     ]
    }
   ],
   "source": [
    "pct_vmed_zero = (df_densidad[df_densidad['vmed']== 0 ].shape[0] /  df_densidad.shape[0])  * 100  # Calculate the percentage\n",
    "print(f\"The percentage of rows where 'vmed' is 0 is: {pct_vmed_zero:.2f}%\")"
   ]
  }
 ],
 "metadata": {
  "kernelspec": {
   "display_name": "Python 3 (ipykernel)",
   "language": "python",
   "name": "python3"
  },
  "language_info": {
   "codemirror_mode": {
    "name": "ipython",
    "version": 3
   },
   "file_extension": ".py",
   "mimetype": "text/x-python",
   "name": "python",
   "nbconvert_exporter": "python",
   "pygments_lexer": "ipython3",
   "version": "3.10.0"
  }
 },
 "nbformat": 4,
 "nbformat_minor": 5
}
