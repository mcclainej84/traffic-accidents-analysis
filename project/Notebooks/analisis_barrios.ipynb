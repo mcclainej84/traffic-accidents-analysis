{
 "cells": [
  {
   "cell_type": "markdown",
   "id": "19c97c50-22fc-443d-bcd8-4502e6677d37",
   "metadata": {},
   "source": [
    "### Esta libreta contiene un borrador sobre una prueba de concepto para analizar los accidentes de tráfico por barrios en lugar de distritos"
   ]
  },
  {
   "cell_type": "code",
   "execution_count": 1,
   "id": "c03613a4-5b51-4ea0-beca-e58919f294b1",
   "metadata": {},
   "outputs": [],
   "source": [
    "import folium\n",
    "import geopandas as gpd\n",
    "from folium.plugins import MarkerCluster\n",
    "from folium.plugins import HeatMap\n",
    "from IPython.display import IFrame\n",
    "import ipywidgets as widgets\n",
    "from ipyleaflet import Map, Marker, Icon\n",
    "import pandas as pd"
   ]
  },
  {
   "cell_type": "code",
   "execution_count": 2,
   "id": "f2d5d842-a1b2-49e4-93e5-1126c2e187b6",
   "metadata": {},
   "outputs": [],
   "source": [
    "df = pd.read_csv('../Files/2023_Accidentalidad_c_g_s_d.csv' , sep = \";\")"
   ]
  },
  {
   "cell_type": "code",
   "execution_count": 3,
   "id": "cf2d4459-5279-4bf3-a2fd-d6ba232c6426",
   "metadata": {},
   "outputs": [],
   "source": [
    "df['quarter'] = df['quarter'].str.replace(r'\\b(?:el|la|lo|los|las|un|una|unos|unas)\\b', '', regex=True)\n",
    "# 2. Eliminar acentos\n",
    "df['quarter'] = df['quarter'].str.normalize('NFKD').str.encode('ascii', errors='ignore').str.decode('utf-8')\n",
    "# 3. Convertir a minúsculas\n",
    "df['quarter'] = df['quarter'].str.lower()"
   ]
  },
  {
   "cell_type": "code",
   "execution_count": 4,
   "id": "92afdc9e-f0f1-40b3-8737-050fb83aa288",
   "metadata": {},
   "outputs": [
    {
     "data": {
      "text/plain": [
       "0     ciudad jardin\n",
       "8        canillejas\n",
       "10          palacio\n",
       "11      castillejos\n",
       "13           cortes\n",
       "16       berruguete\n",
       "18         butarque\n",
       "19         simancas\n",
       "21            arcos\n",
       "23       campamento\n",
       "Name: quarter, dtype: object"
      ]
     },
     "execution_count": 4,
     "metadata": {},
     "output_type": "execute_result"
    }
   ],
   "source": [
    "df.quarter.drop_duplicates().head(10)"
   ]
  },
  {
   "cell_type": "code",
   "execution_count": 5,
   "id": "eebf12a6-f38f-4db9-ac84-bbaa6d308db7",
   "metadata": {},
   "outputs": [
    {
     "data": {
      "text/plain": [
       "120"
      ]
     },
     "execution_count": 5,
     "metadata": {},
     "output_type": "execute_result"
    }
   ],
   "source": [
    "df.quarter.drop_duplicates().count()"
   ]
  },
  {
   "cell_type": "code",
   "execution_count": 6,
   "id": "32ec0961-1666-4059-9fc6-32da67ef1555",
   "metadata": {},
   "outputs": [],
   "source": [
    "gdf = gpd.read_file( \"../Files/Barrios/Barrios.shp\" , sep = \";\")"
   ]
  },
  {
   "cell_type": "code",
   "execution_count": 7,
   "id": "3059aab0-6e3a-4829-9808-7a7404da15ee",
   "metadata": {},
   "outputs": [
    {
     "data": {
      "text/plain": [
       "(131, 15)"
      ]
     },
     "execution_count": 7,
     "metadata": {},
     "output_type": "execute_result"
    }
   ],
   "source": [
    "gdf.shape"
   ]
  },
  {
   "cell_type": "code",
   "execution_count": 8,
   "id": "45f39397-fca0-4008-b2aa-93460e937090",
   "metadata": {},
   "outputs": [
    {
     "data": {
      "text/html": [
       "<div>\n",
       "<style scoped>\n",
       "    .dataframe tbody tr th:only-of-type {\n",
       "        vertical-align: middle;\n",
       "    }\n",
       "\n",
       "    .dataframe tbody tr th {\n",
       "        vertical-align: top;\n",
       "    }\n",
       "\n",
       "    .dataframe thead th {\n",
       "        text-align: right;\n",
       "    }\n",
       "</style>\n",
       "<table border=\"1\" class=\"dataframe\">\n",
       "  <thead>\n",
       "    <tr style=\"text-align: right;\">\n",
       "      <th></th>\n",
       "      <th>OBJECTID</th>\n",
       "      <th>CODDIS</th>\n",
       "      <th>NOMDIS</th>\n",
       "      <th>COD_BAR</th>\n",
       "      <th>NOMBRE</th>\n",
       "      <th>Shape_Leng</th>\n",
       "      <th>COD_DIS_TX</th>\n",
       "      <th>BARRIO_MAY</th>\n",
       "      <th>COD_DISBAR</th>\n",
       "      <th>NUM_BAR</th>\n",
       "      <th>BARRIO_MT</th>\n",
       "      <th>COD_DISB</th>\n",
       "      <th>Shape_STAr</th>\n",
       "      <th>Shape_STLe</th>\n",
       "      <th>geometry</th>\n",
       "    </tr>\n",
       "  </thead>\n",
       "  <tbody>\n",
       "    <tr>\n",
       "      <th>0</th>\n",
       "      <td>132</td>\n",
       "      <td>17</td>\n",
       "      <td>Villaverde</td>\n",
       "      <td>172</td>\n",
       "      <td>San Cristóbal</td>\n",
       "      <td>4752.827446</td>\n",
       "      <td>17</td>\n",
       "      <td>SAN CRISTOBAL</td>\n",
       "      <td>172</td>\n",
       "      <td>2</td>\n",
       "      <td>SAN CRISTÓBAL</td>\n",
       "      <td>17-2</td>\n",
       "      <td>1.082492e+06</td>\n",
       "      <td>4752.827446</td>\n",
       "      <td>POLYGON ((441930.867 4466853.189, 441929.463 4...</td>\n",
       "    </tr>\n",
       "    <tr>\n",
       "      <th>1</th>\n",
       "      <td>133</td>\n",
       "      <td>17</td>\n",
       "      <td>Villaverde</td>\n",
       "      <td>173</td>\n",
       "      <td>Butarque</td>\n",
       "      <td>12641.916858</td>\n",
       "      <td>17</td>\n",
       "      <td>BUTARQUE</td>\n",
       "      <td>173</td>\n",
       "      <td>3</td>\n",
       "      <td>BUTARQUE</td>\n",
       "      <td>17-3</td>\n",
       "      <td>6.375522e+06</td>\n",
       "      <td>12641.916858</td>\n",
       "      <td>POLYGON ((444144.857 4464473.211, 443940.236 4...</td>\n",
       "    </tr>\n",
       "    <tr>\n",
       "      <th>2</th>\n",
       "      <td>134</td>\n",
       "      <td>17</td>\n",
       "      <td>Villaverde</td>\n",
       "      <td>175</td>\n",
       "      <td>Ángeles</td>\n",
       "      <td>5703.998815</td>\n",
       "      <td>17</td>\n",
       "      <td>ANGELES</td>\n",
       "      <td>175</td>\n",
       "      <td>5</td>\n",
       "      <td>ÁNGELES</td>\n",
       "      <td>17-5</td>\n",
       "      <td>1.935271e+06</td>\n",
       "      <td>5703.998815</td>\n",
       "      <td>POLYGON ((441147.728 4466374.483, 441111.738 4...</td>\n",
       "    </tr>\n",
       "    <tr>\n",
       "      <th>3</th>\n",
       "      <td>135</td>\n",
       "      <td>17</td>\n",
       "      <td>Villaverde</td>\n",
       "      <td>174</td>\n",
       "      <td>Los Rosales</td>\n",
       "      <td>5470.262628</td>\n",
       "      <td>17</td>\n",
       "      <td>LOS ROSALES</td>\n",
       "      <td>174</td>\n",
       "      <td>4</td>\n",
       "      <td>LOS ROSALES</td>\n",
       "      <td>17-4</td>\n",
       "      <td>1.540747e+06</td>\n",
       "      <td>5470.262628</td>\n",
       "      <td>POLYGON ((442098.826 4468081.978, 442132.060 4...</td>\n",
       "    </tr>\n",
       "    <tr>\n",
       "      <th>4</th>\n",
       "      <td>136</td>\n",
       "      <td>17</td>\n",
       "      <td>Villaverde</td>\n",
       "      <td>171</td>\n",
       "      <td>Villaverde Alto - Casco Histórico de Villaverde</td>\n",
       "      <td>13726.660503</td>\n",
       "      <td>17</td>\n",
       "      <td>VILLAVERDE ALTO - CASCO HISTORICO DE VILLAVERDE</td>\n",
       "      <td>171</td>\n",
       "      <td>1</td>\n",
       "      <td>VILLAVERDE ALTO - CASCO HISTÓRICO DE VILLAVERDE</td>\n",
       "      <td>17-1</td>\n",
       "      <td>9.253554e+06</td>\n",
       "      <td>13726.660503</td>\n",
       "      <td>POLYGON ((440129.276 4468362.078, 440048.482 4...</td>\n",
       "    </tr>\n",
       "    <tr>\n",
       "      <th>...</th>\n",
       "      <td>...</td>\n",
       "      <td>...</td>\n",
       "      <td>...</td>\n",
       "      <td>...</td>\n",
       "      <td>...</td>\n",
       "      <td>...</td>\n",
       "      <td>...</td>\n",
       "      <td>...</td>\n",
       "      <td>...</td>\n",
       "      <td>...</td>\n",
       "      <td>...</td>\n",
       "      <td>...</td>\n",
       "      <td>...</td>\n",
       "      <td>...</td>\n",
       "      <td>...</td>\n",
       "    </tr>\n",
       "    <tr>\n",
       "      <th>126</th>\n",
       "      <td>258</td>\n",
       "      <td>8</td>\n",
       "      <td>Fuencarral - El Pardo</td>\n",
       "      <td>086</td>\n",
       "      <td>Valverde</td>\n",
       "      <td>12214.176140</td>\n",
       "      <td>08</td>\n",
       "      <td>VALVERDE</td>\n",
       "      <td>86</td>\n",
       "      <td>6</td>\n",
       "      <td>VALVERDE</td>\n",
       "      <td>8-6</td>\n",
       "      <td>8.981228e+06</td>\n",
       "      <td>12214.176140</td>\n",
       "      <td>POLYGON ((444203.866 4484758.285, 444264.176 4...</td>\n",
       "    </tr>\n",
       "    <tr>\n",
       "      <th>127</th>\n",
       "      <td>259</td>\n",
       "      <td>8</td>\n",
       "      <td>Fuencarral - El Pardo</td>\n",
       "      <td>088</td>\n",
       "      <td>El Goloso</td>\n",
       "      <td>26548.956086</td>\n",
       "      <td>08</td>\n",
       "      <td>EL GOLOSO</td>\n",
       "      <td>88</td>\n",
       "      <td>8</td>\n",
       "      <td>EL GOLOSO</td>\n",
       "      <td>8-8</td>\n",
       "      <td>2.649309e+07</td>\n",
       "      <td>26548.956086</td>\n",
       "      <td>POLYGON ((440620.784 4492208.433, 440620.465 4...</td>\n",
       "    </tr>\n",
       "    <tr>\n",
       "      <th>128</th>\n",
       "      <td>260</td>\n",
       "      <td>8</td>\n",
       "      <td>Fuencarral - El Pardo</td>\n",
       "      <td>081</td>\n",
       "      <td>El Pardo</td>\n",
       "      <td>87226.068605</td>\n",
       "      <td>08</td>\n",
       "      <td>EL PARDO</td>\n",
       "      <td>81</td>\n",
       "      <td>1</td>\n",
       "      <td>EL PARDO</td>\n",
       "      <td>8-1</td>\n",
       "      <td>1.875834e+08</td>\n",
       "      <td>87226.068605</td>\n",
       "      <td>POLYGON ((444560.283 4499365.173, 444582.369 4...</td>\n",
       "    </tr>\n",
       "    <tr>\n",
       "      <th>129</th>\n",
       "      <td>261</td>\n",
       "      <td>19</td>\n",
       "      <td>Vicálvaro</td>\n",
       "      <td>191</td>\n",
       "      <td>Casco histórico de Vicálvaro</td>\n",
       "      <td>31101.747399</td>\n",
       "      <td>19</td>\n",
       "      <td>CASCO HISTORICO DE VICALVARO</td>\n",
       "      <td>191</td>\n",
       "      <td>1</td>\n",
       "      <td>CASCO HISTÓRICO DE VICÁLVARO</td>\n",
       "      <td>19-1</td>\n",
       "      <td>2.149422e+07</td>\n",
       "      <td>31101.747399</td>\n",
       "      <td>POLYGON ((452825.125 4468280.618, 452825.243 4...</td>\n",
       "    </tr>\n",
       "    <tr>\n",
       "      <th>130</th>\n",
       "      <td>262</td>\n",
       "      <td>19</td>\n",
       "      <td>Vicálvaro</td>\n",
       "      <td>194</td>\n",
       "      <td>El Cañaveral</td>\n",
       "      <td>15928.202559</td>\n",
       "      <td>19</td>\n",
       "      <td>EL CAÑAVERAL</td>\n",
       "      <td>194</td>\n",
       "      <td>4</td>\n",
       "      <td>EL CAÑAVERAL</td>\n",
       "      <td>19-4</td>\n",
       "      <td>1.057425e+07</td>\n",
       "      <td>15928.202559</td>\n",
       "      <td>POLYGON ((453942.081 4471530.864, 453949.463 4...</td>\n",
       "    </tr>\n",
       "  </tbody>\n",
       "</table>\n",
       "<p>131 rows × 15 columns</p>\n",
       "</div>"
      ],
      "text/plain": [
       "     OBJECTID CODDIS                 NOMDIS COD_BAR  \\\n",
       "0         132     17             Villaverde     172   \n",
       "1         133     17             Villaverde     173   \n",
       "2         134     17             Villaverde     175   \n",
       "3         135     17             Villaverde     174   \n",
       "4         136     17             Villaverde     171   \n",
       "..        ...    ...                    ...     ...   \n",
       "126       258      8  Fuencarral - El Pardo     086   \n",
       "127       259      8  Fuencarral - El Pardo     088   \n",
       "128       260      8  Fuencarral - El Pardo     081   \n",
       "129       261     19              Vicálvaro     191   \n",
       "130       262     19              Vicálvaro     194   \n",
       "\n",
       "                                              NOMBRE    Shape_Leng COD_DIS_TX  \\\n",
       "0                                      San Cristóbal   4752.827446         17   \n",
       "1                                           Butarque  12641.916858         17   \n",
       "2                                            Ángeles   5703.998815         17   \n",
       "3                                        Los Rosales   5470.262628         17   \n",
       "4    Villaverde Alto - Casco Histórico de Villaverde  13726.660503         17   \n",
       "..                                               ...           ...        ...   \n",
       "126                                         Valverde  12214.176140         08   \n",
       "127                                        El Goloso  26548.956086         08   \n",
       "128                                         El Pardo  87226.068605         08   \n",
       "129                     Casco histórico de Vicálvaro  31101.747399         19   \n",
       "130                                     El Cañaveral  15928.202559         19   \n",
       "\n",
       "                                          BARRIO_MAY COD_DISBAR NUM_BAR  \\\n",
       "0                                      SAN CRISTOBAL        172       2   \n",
       "1                                           BUTARQUE        173       3   \n",
       "2                                            ANGELES        175       5   \n",
       "3                                        LOS ROSALES        174       4   \n",
       "4    VILLAVERDE ALTO - CASCO HISTORICO DE VILLAVERDE        171       1   \n",
       "..                                               ...        ...     ...   \n",
       "126                                         VALVERDE         86       6   \n",
       "127                                        EL GOLOSO         88       8   \n",
       "128                                         EL PARDO         81       1   \n",
       "129                     CASCO HISTORICO DE VICALVARO        191       1   \n",
       "130                                     EL CAÑAVERAL        194       4   \n",
       "\n",
       "                                           BARRIO_MT COD_DISB    Shape_STAr  \\\n",
       "0                                      SAN CRISTÓBAL     17-2  1.082492e+06   \n",
       "1                                           BUTARQUE     17-3  6.375522e+06   \n",
       "2                                            ÁNGELES     17-5  1.935271e+06   \n",
       "3                                        LOS ROSALES     17-4  1.540747e+06   \n",
       "4    VILLAVERDE ALTO - CASCO HISTÓRICO DE VILLAVERDE     17-1  9.253554e+06   \n",
       "..                                               ...      ...           ...   \n",
       "126                                         VALVERDE      8-6  8.981228e+06   \n",
       "127                                        EL GOLOSO      8-8  2.649309e+07   \n",
       "128                                         EL PARDO      8-1  1.875834e+08   \n",
       "129                     CASCO HISTÓRICO DE VICÁLVARO     19-1  2.149422e+07   \n",
       "130                                     EL CAÑAVERAL     19-4  1.057425e+07   \n",
       "\n",
       "       Shape_STLe                                           geometry  \n",
       "0     4752.827446  POLYGON ((441930.867 4466853.189, 441929.463 4...  \n",
       "1    12641.916858  POLYGON ((444144.857 4464473.211, 443940.236 4...  \n",
       "2     5703.998815  POLYGON ((441147.728 4466374.483, 441111.738 4...  \n",
       "3     5470.262628  POLYGON ((442098.826 4468081.978, 442132.060 4...  \n",
       "4    13726.660503  POLYGON ((440129.276 4468362.078, 440048.482 4...  \n",
       "..            ...                                                ...  \n",
       "126  12214.176140  POLYGON ((444203.866 4484758.285, 444264.176 4...  \n",
       "127  26548.956086  POLYGON ((440620.784 4492208.433, 440620.465 4...  \n",
       "128  87226.068605  POLYGON ((444560.283 4499365.173, 444582.369 4...  \n",
       "129  31101.747399  POLYGON ((452825.125 4468280.618, 452825.243 4...  \n",
       "130  15928.202559  POLYGON ((453942.081 4471530.864, 453949.463 4...  \n",
       "\n",
       "[131 rows x 15 columns]"
      ]
     },
     "execution_count": 8,
     "metadata": {},
     "output_type": "execute_result"
    }
   ],
   "source": [
    "gdf"
   ]
  },
  {
   "cell_type": "code",
   "execution_count": 9,
   "id": "8737d175-3edb-4c73-a660-7ba54fe1c890",
   "metadata": {},
   "outputs": [],
   "source": [
    "gdf['NOMBRE'] = gdf['NOMBRE'].str.replace(r'\\b(?:el|la|lo|los|las|un|una|unos|unas)\\b', '', regex=True)\n",
    "# 2. Eliminar acentos\n",
    "gdf['NOMBRE'] = gdf['NOMBRE'].str.normalize('NFKD').str.encode('ascii', errors='ignore').str.decode('utf-8')\n",
    "# 3. Convertir a minúsculas\n",
    "gdf['NOMBRE'] = gdf['NOMBRE'].str.lower()"
   ]
  },
  {
   "cell_type": "code",
   "execution_count": 10,
   "id": "7db64323-09e5-4099-ae20-8f0ad31d870a",
   "metadata": {},
   "outputs": [],
   "source": [
    "l1 =  df.quarter.unique()"
   ]
  },
  {
   "cell_type": "code",
   "execution_count": 11,
   "id": "0db39aca-ee5d-4d66-9ff4-568b7863b9ff",
   "metadata": {},
   "outputs": [],
   "source": [
    "l2 = gdf.NOMBRE.unique()"
   ]
  },
  {
   "cell_type": "code",
   "execution_count": 12,
   "id": "7a80e72c-5062-4579-9c1a-0d6c7814496b",
   "metadata": {},
   "outputs": [
    {
     "name": "stdout",
     "output_type": "stream",
     "text": [
      "nan\n",
      "el pilar\n",
      "jeronimos\n",
      "salvador\n",
      "los angeles\n",
      "carmenes\n",
      "villaverde alto, casco historico de villaverde\n",
      "concepcion\n",
      "las acacias\n",
      "las aguilas\n",
      "barrio del aeropuerto\n",
      "valderribas\n"
     ]
    }
   ],
   "source": [
    "for i in l1:\n",
    "    if i not in l2:\n",
    "        print(i)"
   ]
  },
  {
   "cell_type": "code",
   "execution_count": 13,
   "id": "abbc8011-4192-4579-a04b-16e8c5516687",
   "metadata": {},
   "outputs": [
    {
     "name": "stdout",
     "output_type": "stream",
     "text": [
      "angeles\n",
      "villaverde alto - casco historico de villaverde\n",
      "aguilas\n",
      "valderrivas\n",
      "acacias\n",
      "los carmenes\n",
      "los jeronimos\n",
      "la concepcion\n",
      "el salvador\n",
      "alameda de osuna\n",
      "aravaca\n",
      "corralejos\n",
      "valdemarin\n",
      "casco historico de barajas\n",
      "ciudad universitaria\n",
      "el plantio\n",
      "pilar\n",
      "timon\n",
      "aeropuerto\n",
      "mirasierra\n",
      "el goloso\n",
      "el pardo\n"
     ]
    }
   ],
   "source": [
    "for i in l2:\n",
    "    if i not in l1:\n",
    "        print(i)"
   ]
  },
  {
   "cell_type": "code",
   "execution_count": 14,
   "id": "8ae0c3ea-eb5d-4da5-8212-fe9dbb69578a",
   "metadata": {},
   "outputs": [],
   "source": [
    "import geopandas as gpd\n",
    "import matplotlib.pyplot as plt\n",
    "\n",
    "# Load the shapefile\n",
    "shapefile_path = \"../Files/Barrios/Barrios.shp\"\n",
    "gdf = gpd.read_file(shapefile_path)\n"
   ]
  },
  {
   "cell_type": "code",
   "execution_count": 15,
   "id": "84588b93-1416-4708-8cff-aa8f5b6eae9b",
   "metadata": {},
   "outputs": [
    {
     "data": {
      "image/png": "[encoded data removed]",
      "text/plain": [
       "<Figure size 640x480 with 1 Axes>"
      ]
     },
     "metadata": {},
     "output_type": "display_data"
    }
   ],
   "source": [
    "gdf.plot()\n",
    "plt.title(\"Polygon Shapefile\")\n",
    "plt.axis('off')  # Turn off the axis\n",
    "plt.show()"
   ]
  },
  {
   "cell_type": "code",
   "execution_count": 16,
   "id": "c8457b50-6ea6-4537-ad14-b0371b7210ed",
   "metadata": {},
   "outputs": [
    {
     "data": {
      "text/html": [
       "\n",
       "        <iframe\n",
       "            width=\"800\"\n",
       "            height=\"900\"\n",
       "            src=\"map_quarter.html\"\n",
       "            frameborder=\"0\"\n",
       "            allowfullscreen\n",
       "            \n",
       "        ></iframe>\n",
       "        "
      ],
      "text/plain": [
       "<IPython.lib.display.IFrame at 0x14ea0a110>"
      ]
     },
     "execution_count": 16,
     "metadata": {},
     "output_type": "execute_result"
    }
   ],
   "source": [
    "shapefile_path = \"../Files/Barrios/Barrios.shp\"\n",
    "gdf = gpd.read_file(shapefile_path)\n",
    "madrid = (40.4168, -3.7038)\n",
    "\n",
    "map = folium.Map(location=madrid, zoom_start=10, tiles=\"OpenStreetMap\")\n",
    "\n",
    "folium.GeoJson(gdf).add_to(map)\n",
    "\n",
    "map_path = \"map_quarter.html\"\n",
    "map.save(map_path)\n",
    "IFrame(src=map_path, width=800, height=900)"
   ]
  }
 ],
 "metadata": {
  "kernelspec": {
   "display_name": "Python 3 (ipykernel)",
   "language": "python",
   "name": "python3"
  },
  "language_info": {
   "codemirror_mode": {
    "name": "ipython",
    "version": 3
   },
   "file_extension": ".py",
   "mimetype": "text/x-python",
   "name": "python",
   "nbconvert_exporter": "python",
   "pygments_lexer": "ipython3",
   "version": "3.10.0"
  }
 },
 "nbformat": 4,
 "nbformat_minor": 5
}
