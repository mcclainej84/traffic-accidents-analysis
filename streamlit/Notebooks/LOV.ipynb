{
 "cells": [
  {
   "cell_type": "markdown",
   "id": "c5949010-95fe-46fc-a505-9d5c1c779441",
   "metadata": {},
   "source": [
    "### Esta libreta se utiliza para generar la información necesaria para las Listas de valoresde la aplicación de mapas de Streamlit"
   ]
  },
  {
   "cell_type": "code",
   "execution_count": 15,
   "id": "5eae0c4d-545f-43c4-b990-6edd2473f02a",
   "metadata": {},
   "outputs": [],
   "source": [
    "import geopandas as gpd\n",
    "import pandas as pd\n",
    "import json"
   ]
  },
  {
   "cell_type": "code",
   "execution_count": 16,
   "id": "f0d5cddb-cf6b-40b1-aef9-6e3c1fab9d27",
   "metadata": {},
   "outputs": [],
   "source": [
    "data_folder =\"../../project/Files/\""
   ]
  },
  {
   "cell_type": "code",
   "execution_count": 17,
   "id": "a6feddb7-4fad-4329-b769-fbf31054ca34",
   "metadata": {},
   "outputs": [],
   "source": [
    "def build_dates_LOV():\n",
    "    # Define the file path\n",
    "    csv_accidents_path = f'{data_folder}2023_Accidentalidad_c_g_s_d_clean.csv'\n",
    "    \n",
    "    dates_list = (\n",
    "        pd.read_csv(csv_accidents_path , sep = \";\")\n",
    "        .assign(fecha=lambda x: pd.to_datetime(x['fecha'], format='%Y-%m-%d'))\n",
    "        .assign(fecha_display=lambda x: x['fecha'].dt.strftime('%B-%Y'))\n",
    "        .groupby('fecha_display')['fecha'].agg(['min' , 'max']).reset_index()\n",
    "        .astype({'min': str, 'max': str})\n",
    "        .sort_values('min')\n",
    "        .to_dict(orient='records')\n",
    "    )   \n",
    "    \n",
    "    return dates_list\n",
    "\n",
    "def build_districts_LOV():\n",
    "    shapefile_path = f\"{data_folder}Barrios/Barrios.shp\"\n",
    "\n",
    "    key_cod_dist = 'cod_distr'\n",
    "    key_nombre= 'nombre'\n",
    "\n",
    "    dict_list = (\n",
    "        gpd.read_file(shapefile_path)\n",
    "        .loc[:, ['CODDIS', 'NOMDIS']]\n",
    "        .drop_duplicates()\n",
    "        .sort_values('NOMDIS')\n",
    "        .rename(columns={'CODDIS': key_cod_dist, 'NOMDIS': key_nombre})\n",
    "        .to_dict(orient='records')\n",
    "    )   \n",
    "\n",
    "    return dict_list\n",
    "\n",
    "def build_lovs():\n",
    "    \n",
    "    lov_names = [\"lov_district\", \"lov_date\"]\n",
    "    data_values = [build_districts_LOV(), build_dates_LOV()]\n",
    "            \n",
    "    lov_data_dict = [{\"lov_name\": lov_name, \"data\": data} for lov_name, data in zip(lov_names, data_values)]    \n",
    "    \n",
    "    return lov_data_dict\n",
    "\n",
    "\n",
    "streamlit_lov_path = f'../source/data/LOV.json'\n",
    "lovs = build_lovs()\n",
    "\n",
    "with open(streamlit_lov_path, 'w') as json_file:\n",
    "    json.dump(lovs, json_file)\n"
   ]
  }
 ],
 "metadata": {
  "kernelspec": {
   "display_name": "Python 3 (ipykernel)",
   "language": "python",
   "name": "python3"
  },
  "language_info": {
   "codemirror_mode": {
    "name": "ipython",
    "version": 3
   },
   "file_extension": ".py",
   "mimetype": "text/x-python",
   "name": "python",
   "nbconvert_exporter": "python",
   "pygments_lexer": "ipython3",
   "version": "3.10.0"
  }
 },
 "nbformat": 4,
 "nbformat_minor": 5
}
