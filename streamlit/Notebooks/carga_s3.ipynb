{
 "cells": [
  {
   "cell_type": "markdown",
   "id": "78219fb4-9338-48a5-870b-b598eb3aa970",
   "metadata": {},
   "source": [
    "### Libreta para cargar los datos en S3"
   ]
  },
  {
   "cell_type": "markdown",
   "id": "d03941f6-b9e7-435e-adbf-972ac60a47ff",
   "metadata": {},
   "source": [
    "Ejecutando esta libreta se crea automaticamente un Bucket en S3 y se cargan los datos necesarios para ejecutar la App desde la fuente de Streamlit"
   ]
  },
  {
   "cell_type": "code",
   "execution_count": 1,
   "id": "4bcd25d0-9b1a-49ae-8ec8-9f1b4e7ad3d5",
   "metadata": {},
   "outputs": [],
   "source": [
    "import boto3\n",
    "import botocore\n",
    "import configparser\n",
    "import pandas as pd\n",
    "import os\n",
    "import json"
   ]
  },
  {
   "cell_type": "code",
   "execution_count": 2,
   "id": "fa2fc853-0a1e-4dc5-849c-6eec3c10b7de",
   "metadata": {},
   "outputs": [],
   "source": [
    "#Credentials in case need manual credentials\n",
    "AWS_S3_BUCKET = \"streamlit-traffic-accidents\"\n",
    "aws_access_key_id='-do-not-'\n",
    "aws_secret_access_key='-share-aws-'\n",
    "aws_session_token='-credentials-'"
   ]
  },
  {
   "cell_type": "code",
   "execution_count": 8,
   "id": "5025037f-ea54-424f-88c3-bc4d4f7206a3",
   "metadata": {},
   "outputs": [],
   "source": [
    "def get_aws_credentials():\n",
    "    aws_credentials_path = '../source/aws_credentials'\n",
    "\n",
    "    if os.path.exists(aws_credentials_path):\n",
    "        # Load the configuration file\n",
    "        config = configparser.ConfigParser()\n",
    "        config.read(aws_credentials_path)\n",
    "\n",
    "        # Extract AWS credentials\n",
    "        aws_access_key_id = config.get('default', 'aws_access_key_id')\n",
    "        aws_secret_access_key = config.get('default', 'aws_secret_access_key')\n",
    "        aws_session_token = config.get('default', 'aws_session_token')        \n",
    "    \n",
    "        return aws_access_key_id,aws_secret_access_key,aws_session_token"
   ]
  },
  {
   "cell_type": "code",
   "execution_count": 9,
   "id": "2215b605-d71b-4a5e-b349-da3f3c059d7c",
   "metadata": {},
   "outputs": [],
   "source": [
    "aws_access_key_id,aws_secret_access_key,aws_session_token =  get_aws_credentials()"
   ]
  },
  {
   "cell_type": "code",
   "execution_count": 10,
   "id": "880598d4-03c1-4508-bd82-ae58a0b66058",
   "metadata": {},
   "outputs": [],
   "source": [
    "s3_session = boto3.session.Session(\n",
    " region_name=\"us-east-1\",\n",
    " aws_access_key_id=aws_access_key_id,\n",
    " aws_secret_access_key=aws_secret_access_key,\n",
    " aws_session_token=aws_session_token\n",
    ").client('s3')"
   ]
  },
  {
   "cell_type": "code",
   "execution_count": 11,
   "id": "978e28e2-8f16-4af8-bf37-0a8df0c63701",
   "metadata": {},
   "outputs": [
    {
     "data": {
      "text/plain": [
       "{'ResponseMetadata': {'RequestId': '3YP7JQ3RKE637V1W',\n",
       "  'HostId': '5dznjiwpd03zQhGHgNeuCEQcbT2floWQAAMjUhUOqhe4WKe/b3UgXUWHYNZ4TASV1Z561Di7ZwA=',\n",
       "  'HTTPStatusCode': 200,\n",
       "  'HTTPHeaders': {'x-amz-id-2': '5dznjiwpd03zQhGHgNeuCEQcbT2floWQAAMjUhUOqhe4WKe/b3UgXUWHYNZ4TASV1Z561Di7ZwA=',\n",
       "   'x-amz-request-id': '3YP7JQ3RKE637V1W',\n",
       "   'date': 'Sun, 22 Oct 2023 03:36:26 GMT',\n",
       "   'content-type': 'application/xml',\n",
       "   'transfer-encoding': 'chunked',\n",
       "   'server': 'AmazonS3'},\n",
       "  'RetryAttempts': 0},\n",
       " 'Buckets': [{'Name': 'jesus-mlops',\n",
       "   'CreationDate': datetime.datetime(2023, 9, 22, 17, 59, 57, tzinfo=tzutc())},\n",
       "  {'Name': 'mlflow-server-traffic',\n",
       "   'CreationDate': datetime.datetime(2023, 10, 2, 8, 5, 6, tzinfo=tzutc())},\n",
       "  {'Name': 'my-test-bucket-traffic',\n",
       "   'CreationDate': datetime.datetime(2023, 10, 20, 13, 6, 21, tzinfo=tzutc())},\n",
       "  {'Name': 'proyecto-airbnb-mbit',\n",
       "   'CreationDate': datetime.datetime(2023, 7, 4, 15, 32, 11, tzinfo=tzutc())},\n",
       "  {'Name': 'sagemaker-studio-570786501654-8vh4tmir9x',\n",
       "   'CreationDate': datetime.datetime(2023, 9, 22, 17, 16, 45, tzinfo=tzutc())},\n",
       "  {'Name': 'sagemaker-us-east-1-570786501654',\n",
       "   'CreationDate': datetime.datetime(2023, 9, 22, 18, 26, 52, tzinfo=tzutc())},\n",
       "  {'Name': 'streamlit-traffic-accidents',\n",
       "   'CreationDate': datetime.datetime(2023, 10, 17, 19, 45, 27, tzinfo=tzutc())}],\n",
       " 'Owner': {'DisplayName': 'awslabsc0w5833291t1685930945',\n",
       "  'ID': '96f525f32ea18f9390d9775090eb2dc87701937c4894741a360d40b0e8b2f42e'}}"
      ]
     },
     "execution_count": 11,
     "metadata": {},
     "output_type": "execute_result"
    }
   ],
   "source": [
    "response = s3_session.list_buckets()\n",
    "response"
   ]
  },
  {
   "cell_type": "code",
   "execution_count": 12,
   "id": "cffdb00c-8418-4021-9a5c-6fd861246981",
   "metadata": {},
   "outputs": [],
   "source": [
    "def create_bucket_if_not_exists(s3_session, aws_s3_bucket):\n",
    "    try:\n",
    "        s3_session.head_bucket(Bucket=aws_s3_bucket)\n",
    "    except botocore.exceptions.ClientError as e:\n",
    "        if e.response['Error']['Code'] == '404':\n",
    "            s3_session.create_bucket(Bucket=aws_s3_bucket)\n",
    "            return True\n",
    "        else:\n",
    "            return False\n",
    "    return True"
   ]
  },
  {
   "cell_type": "code",
   "execution_count": 13,
   "id": "55e0c755-6a1c-4ef8-adcf-e2d4296bb46e",
   "metadata": {},
   "outputs": [],
   "source": [
    "def upload_folder_to_s3(s3_session,aws_s3_bucket, source_folder):\n",
    "    source_directory = '../streamlit/source/'\n",
    "    full_path = f'{source_directory}{source_folder}'\n",
    "\n",
    "    for root, dirs, files in os.walk(full_path):\n",
    "          for filename in files:\n",
    "            local_path = os.path.join(root, filename)\n",
    "            s3_path = os.path.join(source_folder, filename)            \n",
    "            \n",
    "            print(f'About to copy file {filename}>> source path:{local_path} destination path: {s3_path}')\n",
    "            \n",
    "            s3_session.upload_file(local_path, aws_s3_bucket, s3_path)\n",
    "            "
   ]
  },
  {
   "cell_type": "code",
   "execution_count": 14,
   "id": "65183421-f0fe-4680-976b-813b7eb908f0",
   "metadata": {},
   "outputs": [],
   "source": [
    "def streamlit_uploader_tool():\n",
    "    AWS_S3_BUCKET = \"streamlit-traffic-accidents\"\n",
    "    \n",
    "    aws_access_key_id,aws_secret_access_key,aws_session_token =  get_aws_credentials()\n",
    "    s3_session = boto3.session.Session(\n",
    "     region_name=\"us-east-1\",\n",
    "     aws_access_key_id=aws_access_key_id,\n",
    "     aws_secret_access_key=aws_secret_access_key,\n",
    "     aws_session_token=aws_session_token\n",
    "    ).client('s3')    \n",
    "    \n",
    "    create_bucket_if_not_exists(s3_session, AWS_S3_BUCKET)\n",
    "    \n",
    "    upload_folder_to_s3(s3_session, AWS_S3_BUCKET , 'data')\n",
    "    upload_folder_to_s3(s3_session, AWS_S3_BUCKET ,'img')"
   ]
  },
  {
   "cell_type": "code",
   "execution_count": 10,
   "id": "c4d03759-12c3-444b-bae0-5b1684b05858",
   "metadata": {},
   "outputs": [
    {
     "name": "stdout",
     "output_type": "stream",
     "text": [
      "About to copy file Distritos_de_Madrid.geojson>> source path:../streamlit/source/data/Distritos_de_Madrid.geojson destination path: data/Distritos_de_Madrid.geojson\n",
      "About to copy file LOV.json>> source path:../streamlit/source/data/LOV.json destination path: data/LOV.json\n",
      "About to copy file 2023_Accidentalidad_c_g_s_d_clean.csv>> source path:../streamlit/source/data/2023_Accidentalidad_c_g_s_d_clean.csv destination path: data/2023_Accidentalidad_c_g_s_d_clean.csv\n",
      "About to copy file portada.png>> source path:../streamlit/source/img/portada.png destination path: img/portada.png\n",
      "About to copy file TrafficBW.jpeg>> source path:../streamlit/source/img/TrafficBW.jpeg destination path: img/TrafficBW.jpeg\n",
      "About to copy file traffic.jpg>> source path:../streamlit/source/img/traffic.jpg destination path: img/traffic.jpg\n",
      "About to copy file accidente_portada.jpg>> source path:../streamlit/source/img/accidente_portada.jpg destination path: img/accidente_portada.jpg\n"
     ]
    }
   ],
   "source": [
    "streamlit_uploader_tool()"
   ]
  },
  {
   "cell_type": "code",
   "execution_count": 11,
   "id": "31cd4235-9ae6-4b25-bde9-e084d9333fdc",
   "metadata": {},
   "outputs": [],
   "source": [
    "obj = s3_session.get_object(Bucket=AWS_S3_BUCKET, Key='data/2023_Accidentalidad_c_g_s_d_clean.csv')"
   ]
  },
  {
   "cell_type": "code",
   "execution_count": 12,
   "id": "d8c0104f-7134-404e-aaf9-b0f95c79136a",
   "metadata": {},
   "outputs": [
    {
     "data": {
      "text/plain": [
       "{'ResponseMetadata': {'RequestId': 'M9AJP5PG8496BMCR',\n",
       "  'HostId': '/rdS/Oy1qoVcC8lVOSOdBgh2s1uD0YJ3v5tW8lakrXBUNPg0tCYG5dUMnm+GSBYa0jyEGsCKnpU=',\n",
       "  'HTTPStatusCode': 200,\n",
       "  'HTTPHeaders': {'x-amz-id-2': '/rdS/Oy1qoVcC8lVOSOdBgh2s1uD0YJ3v5tW8lakrXBUNPg0tCYG5dUMnm+GSBYa0jyEGsCKnpU=',\n",
       "   'x-amz-request-id': 'M9AJP5PG8496BMCR',\n",
       "   'date': 'Fri, 20 Oct 2023 13:21:16 GMT',\n",
       "   'last-modified': 'Fri, 20 Oct 2023 13:21:04 GMT',\n",
       "   'etag': '\"bf6d3645033286e0669e90a30b427947-2\"',\n",
       "   'x-amz-server-side-encryption': 'AES256',\n",
       "   'accept-ranges': 'bytes',\n",
       "   'content-type': 'binary/octet-stream',\n",
       "   'server': 'AmazonS3',\n",
       "   'content-length': '11561896'},\n",
       "  'RetryAttempts': 0},\n",
       " 'AcceptRanges': 'bytes',\n",
       " 'LastModified': datetime.datetime(2023, 10, 20, 13, 21, 4, tzinfo=tzutc()),\n",
       " 'ContentLength': 11561896,\n",
       " 'ETag': '\"bf6d3645033286e0669e90a30b427947-2\"',\n",
       " 'ContentType': 'binary/octet-stream',\n",
       " 'ServerSideEncryption': 'AES256',\n",
       " 'Metadata': {},\n",
       " 'Body': <botocore.response.StreamingBody at 0x11fa42a40>}"
      ]
     },
     "execution_count": 12,
     "metadata": {},
     "output_type": "execute_result"
    }
   ],
   "source": [
    "obj"
   ]
  },
  {
   "cell_type": "code",
   "execution_count": 13,
   "id": "5942aade-ea77-44c6-a75c-507931a82009",
   "metadata": {},
   "outputs": [],
   "source": [
    "df = pd.read_csv(obj['Body'], index_col=None, sep= \";\")"
   ]
  },
  {
   "cell_type": "code",
   "execution_count": 14,
   "id": "b0a167c3-9958-4f56-97e8-e993d8309dc6",
   "metadata": {},
   "outputs": [
    {
     "data": {
      "text/html": [
       "<div>\n",
       "<style scoped>\n",
       "    .dataframe tbody tr th:only-of-type {\n",
       "        vertical-align: middle;\n",
       "    }\n",
       "\n",
       "    .dataframe tbody tr th {\n",
       "        vertical-align: top;\n",
       "    }\n",
       "\n",
       "    .dataframe thead th {\n",
       "        text-align: right;\n",
       "    }\n",
       "</style>\n",
       "<table border=\"1\" class=\"dataframe\">\n",
       "  <thead>\n",
       "    <tr style=\"text-align: right;\">\n",
       "      <th></th>\n",
       "      <th>Unnamed: 0</th>\n",
       "      <th>num_expediente</th>\n",
       "      <th>fecha</th>\n",
       "      <th>hora</th>\n",
       "      <th>localizacion</th>\n",
       "      <th>numero</th>\n",
       "      <th>cod_distrito</th>\n",
       "      <th>distrito</th>\n",
       "      <th>tipo_accidente</th>\n",
       "      <th>estado_meteorológico</th>\n",
       "      <th>...</th>\n",
       "      <th>coordinates_speed_api</th>\n",
       "      <th>road_name_speed_api</th>\n",
       "      <th>speedlimit_kph_speed_api</th>\n",
       "      <th>dia_semana</th>\n",
       "      <th>hora_accidente</th>\n",
       "      <th>int_real</th>\n",
       "      <th>ocupacion</th>\n",
       "      <th>vmed</th>\n",
       "      <th>high_speed_point</th>\n",
       "      <th>hora_rango</th>\n",
       "    </tr>\n",
       "  </thead>\n",
       "  <tbody>\n",
       "    <tr>\n",
       "      <th>5037</th>\n",
       "      <td>5384</td>\n",
       "      <td>2023S004207</td>\n",
       "      <td>2023-02-10</td>\n",
       "      <td>16:00:00</td>\n",
       "      <td>CALL. GOLFO DE SALONICA, 4</td>\n",
       "      <td>4</td>\n",
       "      <td>16</td>\n",
       "      <td>Hortaleza</td>\n",
       "      <td>Colisión lateral</td>\n",
       "      <td>Despejado</td>\n",
       "      <td>...</td>\n",
       "      <td>{'latitude': 40.47508141246795, 'longitude': -...</td>\n",
       "      <td>Calle del Golfo de Salónica</td>\n",
       "      <td>30</td>\n",
       "      <td>Friday</td>\n",
       "      <td>15:58:00</td>\n",
       "      <td>106.665370</td>\n",
       "      <td>7.070039</td>\n",
       "      <td>73.60</td>\n",
       "      <td>0</td>\n",
       "      <td>16</td>\n",
       "    </tr>\n",
       "    <tr>\n",
       "      <th>4011</th>\n",
       "      <td>4268</td>\n",
       "      <td>2023S003161</td>\n",
       "      <td>2023-02-02</td>\n",
       "      <td>19:15:00</td>\n",
       "      <td>AVDA. ASTURIAS, 44</td>\n",
       "      <td>44</td>\n",
       "      <td>6</td>\n",
       "      <td>Tetuán</td>\n",
       "      <td>Alcance</td>\n",
       "      <td>Despejado</td>\n",
       "      <td>...</td>\n",
       "      <td>{'latitude': 40.47054323399534, 'longitude': -...</td>\n",
       "      <td>Avenida de Asturias</td>\n",
       "      <td>30</td>\n",
       "      <td>Thursday</td>\n",
       "      <td>19:10:00</td>\n",
       "      <td>152.861502</td>\n",
       "      <td>10.126761</td>\n",
       "      <td>0.00</td>\n",
       "      <td>0</td>\n",
       "      <td>19</td>\n",
       "    </tr>\n",
       "    <tr>\n",
       "      <th>7319</th>\n",
       "      <td>7821</td>\n",
       "      <td>2023S006863</td>\n",
       "      <td>2023-03-01</td>\n",
       "      <td>00:30:00</td>\n",
       "      <td>AVDA. RAFAELA YBARRA / CALL. CRISTO DE LA VICT...</td>\n",
       "      <td>73</td>\n",
       "      <td>12</td>\n",
       "      <td>Usera</td>\n",
       "      <td>Colisión fronto-lateral</td>\n",
       "      <td>Despejado</td>\n",
       "      <td>...</td>\n",
       "      <td>{'latitude': 40.37874987674009, 'longitude': -...</td>\n",
       "      <td>Avenida de Rafaela Ybarra</td>\n",
       "      <td>20</td>\n",
       "      <td>Wednesday</td>\n",
       "      <td>0:33:00</td>\n",
       "      <td>28.871575</td>\n",
       "      <td>1.524138</td>\n",
       "      <td>66.53</td>\n",
       "      <td>0</td>\n",
       "      <td>0</td>\n",
       "    </tr>\n",
       "  </tbody>\n",
       "</table>\n",
       "<p>3 rows × 43 columns</p>\n",
       "</div>"
      ],
      "text/plain": [
       "      Unnamed: 0 num_expediente       fecha      hora  \\\n",
       "5037        5384    2023S004207  2023-02-10  16:00:00   \n",
       "4011        4268    2023S003161  2023-02-02  19:15:00   \n",
       "7319        7821    2023S006863  2023-03-01  00:30:00   \n",
       "\n",
       "                                           localizacion numero  cod_distrito  \\\n",
       "5037                         CALL. GOLFO DE SALONICA, 4      4            16   \n",
       "4011                                 AVDA. ASTURIAS, 44     44             6   \n",
       "7319  AVDA. RAFAELA YBARRA / CALL. CRISTO DE LA VICT...     73            12   \n",
       "\n",
       "       distrito           tipo_accidente estado_meteorológico  ...  \\\n",
       "5037  Hortaleza         Colisión lateral            Despejado  ...   \n",
       "4011     Tetuán                  Alcance            Despejado  ...   \n",
       "7319      Usera  Colisión fronto-lateral            Despejado  ...   \n",
       "\n",
       "                                  coordinates_speed_api  \\\n",
       "5037  {'latitude': 40.47508141246795, 'longitude': -...   \n",
       "4011  {'latitude': 40.47054323399534, 'longitude': -...   \n",
       "7319  {'latitude': 40.37874987674009, 'longitude': -...   \n",
       "\n",
       "              road_name_speed_api speedlimit_kph_speed_api dia_semana  \\\n",
       "5037  Calle del Golfo de Salónica                       30     Friday   \n",
       "4011          Avenida de Asturias                       30   Thursday   \n",
       "7319    Avenida de Rafaela Ybarra                       20  Wednesday   \n",
       "\n",
       "      hora_accidente    int_real  ocupacion   vmed high_speed_point  \\\n",
       "5037        15:58:00  106.665370   7.070039  73.60                0   \n",
       "4011        19:10:00  152.861502  10.126761   0.00                0   \n",
       "7319         0:33:00   28.871575   1.524138  66.53                0   \n",
       "\n",
       "      hora_rango  \n",
       "5037          16  \n",
       "4011          19  \n",
       "7319           0  \n",
       "\n",
       "[3 rows x 43 columns]"
      ]
     },
     "execution_count": 14,
     "metadata": {},
     "output_type": "execute_result"
    }
   ],
   "source": [
    "df.sample(3)"
   ]
  },
  {
   "cell_type": "code",
   "execution_count": 15,
   "id": "6818e044-d525-4ab5-9c20-dd05c172d517",
   "metadata": {},
   "outputs": [],
   "source": [
    "obj = s3_session.get_object(Bucket=AWS_S3_BUCKET, Key='data/LOV.json')"
   ]
  },
  {
   "cell_type": "code",
   "execution_count": 16,
   "id": "89afb162-bfbd-4015-8024-c93294542579",
   "metadata": {},
   "outputs": [],
   "source": [
    "j = obj['Body'].read()"
   ]
  },
  {
   "cell_type": "code",
   "execution_count": 17,
   "id": "a6985698-97ad-49d1-bf62-35cf8ecd5d61",
   "metadata": {},
   "outputs": [
    {
     "data": {
      "text/plain": [
       "b'[{\"lov_name\": \"lov_district\", \"data\": [{\"cod_distr\": \"2\", \"nombre\": \"Arganzuela\"}, {\"cod_distr\": \"21\", \"nombre\": \"Barajas\"}, {\"cod_distr\": \"11\", \"nombre\": \"Carabanchel\"}, {\"cod_distr\": \"1\", \"nombre\": \"Centro\"}, {\"cod_distr\": \"5\", \"nombre\": \"Chamart\\\\u00edn\"}, {\"cod_distr\": \"7\", \"nombre\": \"Chamber\\\\u00ed\"}, {\"cod_distr\": \"15\", \"nombre\": \"Ciudad Lineal\"}, {\"cod_distr\": \"8\", \"nombre\": \"Fuencarral - El Pardo\"}, {\"cod_distr\": \"16\", \"nombre\": \"Hortaleza\"}, {\"cod_distr\": \"10\", \"nombre\": \"Latina\"}, {\"cod_distr\": \"9\", \"nombre\": \"Moncloa - Aravaca\"}, {\"cod_distr\": \"14\", \"nombre\": \"Moratalaz\"}, {\"cod_distr\": \"13\", \"nombre\": \"Puente de Vallecas\"}, {\"cod_distr\": \"3\", \"nombre\": \"Retiro\"}, {\"cod_distr\": \"4\", \"nombre\": \"Salamanca\"}, {\"cod_distr\": \"20\", \"nombre\": \"San Blas - Canillejas\"}, {\"cod_distr\": \"6\", \"nombre\": \"Tetu\\\\u00e1n\"}, {\"cod_distr\": \"12\", \"nombre\": \"Usera\"}, {\"cod_distr\": \"19\", \"nombre\": \"Vic\\\\u00e1lvaro\"}, {\"cod_distr\": \"18\", \"nombre\": \"Villa de Vallecas\"}, {\"cod_distr\": \"17\", \"nombre\": \"Villaverde\"}]}, {\"lov_name\": \"lov_date\", \"data\": [{\"fecha_display\": \"January-2023\", \"min\": \"2023-01-01\", \"max\": \"2023-01-31\"}, {\"fecha_display\": \"February-2023\", \"min\": \"2023-02-01\", \"max\": \"2023-02-28\"}, {\"fecha_display\": \"March-2023\", \"min\": \"2023-03-01\", \"max\": \"2023-03-31\"}, {\"fecha_display\": \"April-2023\", \"min\": \"2023-04-01\", \"max\": \"2023-04-30\"}, {\"fecha_display\": \"May-2023\", \"min\": \"2023-05-01\", \"max\": \"2023-05-31\"}]}]'"
      ]
     },
     "execution_count": 17,
     "metadata": {},
     "output_type": "execute_result"
    }
   ],
   "source": [
    "j"
   ]
  },
  {
   "cell_type": "code",
   "execution_count": 18,
   "id": "976dbc73-1de4-4d6b-848b-3c5b287be41b",
   "metadata": {},
   "outputs": [],
   "source": [
    "def get_file(filename):\n",
    "    data_folder = \"data/\"\n",
    "    path= data_folder+filename\n",
    "\n",
    "    aws_access_key_id,aws_secret_access_key,aws_session_token =  get_aws_credentials()\n",
    "    \n",
    "    s3_session = boto3.session.Session(\n",
    "     region_name=\"us-east-1\",\n",
    "     aws_access_key_id=aws_access_key_id,\n",
    "     aws_secret_access_key=aws_secret_access_key,\n",
    "     aws_session_token=aws_session_token\n",
    "    ).client('s3')\n",
    "\n",
    "    obj = s3_session.get_object(Bucket=AWS_S3_BUCKET, Key=path)\n",
    "\n",
    "    return obj['Body']"
   ]
  },
  {
   "cell_type": "code",
   "execution_count": 19,
   "id": "a544eb16-d450-4b48-8d57-779369626074",
   "metadata": {},
   "outputs": [
    {
     "data": {
      "text/plain": [
       "[{'fecha_display': 'January-2023', 'min': '2023-01-01', 'max': '2023-01-31'},\n",
       " {'fecha_display': 'February-2023', 'min': '2023-02-01', 'max': '2023-02-28'},\n",
       " {'fecha_display': 'March-2023', 'min': '2023-03-01', 'max': '2023-03-31'},\n",
       " {'fecha_display': 'April-2023', 'min': '2023-04-01', 'max': '2023-04-30'},\n",
       " {'fecha_display': 'May-2023', 'min': '2023-05-01', 'max': '2023-05-31'}]"
      ]
     },
     "execution_count": 19,
     "metadata": {},
     "output_type": "execute_result"
    }
   ],
   "source": [
    "LOV_file='LOV.json'\n",
    "\n",
    "json_file = get_file(LOV_file)\n",
    "\n",
    "loaded_data = json.load(json_file)\n",
    "lov_date_data = loaded_data[1]['data']\n",
    "lov_date_data       "
   ]
  }
 ],
 "metadata": {
  "kernelspec": {
   "display_name": "Python 3 (ipykernel)",
   "language": "python",
   "name": "python3"
  },
  "language_info": {
   "codemirror_mode": {
    "name": "ipython",
    "version": 3
   },
   "file_extension": ".py",
   "mimetype": "text/x-python",
   "name": "python",
   "nbconvert_exporter": "python",
   "pygments_lexer": "ipython3",
   "version": "3.10.0"
  }
 },
 "nbformat": 4,
 "nbformat_minor": 5
}
